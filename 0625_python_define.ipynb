{
  "nbformat": 4,
  "nbformat_minor": 0,
  "metadata": {
    "colab": {
      "provenance": [],
      "gpuType": "T4",
      "authorship_tag": "ABX9TyOYS4ZAgKSZBCCcweBKDjhC",
      "include_colab_link": true
    },
    "kernelspec": {
      "name": "python3",
      "display_name": "Python 3"
    },
    "language_info": {
      "name": "python"
    },
    "accelerator": "GPU"
  },
  "cells": [
    {
      "cell_type": "markdown",
      "metadata": {
        "id": "view-in-github",
        "colab_type": "text"
      },
      "source": [
        "<a href=\"https://colab.research.google.com/github/audalsgh/20250624/blob/main/0625_python_define%26class.ipynb\" target=\"_parent\"><img src=\"https://colab.research.google.com/assets/colab-badge.svg\" alt=\"Open In Colab\"/></a>"
      ]
    },
    {
      "cell_type": "markdown",
      "source": [
        "def 문법: 으로 함수정의, 호출하는 모습"
      ],
      "metadata": {
        "id": "q5qy7kDgmWLt"
      }
    },
    {
      "cell_type": "code",
      "source": [
        "def my_function():\n",
        "  print(\"Hello from a function\")\n",
        "\n",
        "my_function()"
      ],
      "metadata": {
        "colab": {
          "base_uri": "https://localhost:8080/"
        },
        "id": "0qZyG9oImULK",
        "outputId": "d5696f01-85a2-4c30-b76f-5739feae835e"
      },
      "execution_count": 48,
      "outputs": [
        {
          "output_type": "stream",
          "name": "stdout",
          "text": [
            "Hello from a function\n"
          ]
        }
      ]
    },
    {
      "cell_type": "markdown",
      "source": [
        "\"string 인자\"를 받아서 뒤에 Refsnes 라는 말을 붙힌뒤 출력하는 함수"
      ],
      "metadata": {
        "id": "hplpUAXRmddh"
      }
    },
    {
      "cell_type": "code",
      "source": [
        "def my_function(fname):\n",
        "  print(fname + \" Refsnes\")\n",
        "\n",
        "my_function(\"Emil\")\n",
        "my_function(\"Tobias\")\n",
        "my_function(\"Linus\")"
      ],
      "metadata": {
        "colab": {
          "base_uri": "https://localhost:8080/"
        },
        "id": "fJD670Bomcrv",
        "outputId": "caf82754-0d51-40d2-9775-8bb0559d6591"
      },
      "execution_count": 49,
      "outputs": [
        {
          "output_type": "stream",
          "name": "stdout",
          "text": [
            "Emil Refsnes\n",
            "Tobias Refsnes\n",
            "Linus Refsnes\n"
          ]
        }
      ]
    },
    {
      "cell_type": "markdown",
      "source": [
        "\"string 인자\" 2개를 받아서, 비슷한 기능을 하는 함수. *인자 2개를 맞춰서 넘기지 않으면 오류이다!"
      ],
      "metadata": {
        "id": "h7GP6mDYm3mG"
      }
    },
    {
      "cell_type": "code",
      "source": [
        "def my_function(fname, lname):\n",
        "  print(fname + \" \" + lname)\n",
        "\n",
        "my_function(\"Emil\", \"Refsnes\")"
      ],
      "metadata": {
        "colab": {
          "base_uri": "https://localhost:8080/"
        },
        "id": "sW5xjpUqm1vF",
        "outputId": "a0450c83-7be5-47b5-9b9d-463509e14a3d"
      },
      "execution_count": 50,
      "outputs": [
        {
          "output_type": "stream",
          "name": "stdout",
          "text": [
            "Emil Refsnes\n"
          ]
        }
      ]
    },
    {
      "cell_type": "markdown",
      "source": [
        "인자 갯수를 정의하지 못하겠으면, *를 파라미터앞에 붙힌다"
      ],
      "metadata": {
        "id": "f_T8qL7ZnLNU"
      }
    },
    {
      "cell_type": "code",
      "source": [
        "def my_function(*kids):\n",
        "  print(\"The youngest child is \" + kids[2])\n",
        "\n",
        "my_function(\"Emil\", \"Tobias\", \"Linus\")"
      ],
      "metadata": {
        "colab": {
          "base_uri": "https://localhost:8080/"
        },
        "id": "oGXTOU3OnDyU",
        "outputId": "b629e90c-dc5f-4c3c-db3d-9009aac4c484"
      },
      "execution_count": 51,
      "outputs": [
        {
          "output_type": "stream",
          "name": "stdout",
          "text": [
            "The youngest child is Linus\n"
          ]
        }
      ]
    },
    {
      "cell_type": "markdown",
      "source": [
        "인자를 꼭 순서에 맞춰 넘겨줄 필요는 없고, (파라미터3 = \"\") 순서를 지정해줄수있다."
      ],
      "metadata": {
        "id": "lJsL9C2onXcZ"
      }
    },
    {
      "cell_type": "code",
      "source": [
        "def my_function(child3, child2, child1):\n",
        "  print(\"The youngest child is \" + child3)\n",
        "\n",
        "my_function(child1 = \"Emil\", child2 = \"Tobias\", child3 = \"Linus\")"
      ],
      "metadata": {
        "colab": {
          "base_uri": "https://localhost:8080/"
        },
        "id": "4glkX2W_nVlA",
        "outputId": "23364ae2-a1cc-4c0e-f9be-89e9a231f862"
      },
      "execution_count": 52,
      "outputs": [
        {
          "output_type": "stream",
          "name": "stdout",
          "text": [
            "The youngest child is Linus\n"
          ]
        }
      ]
    },
    {
      "cell_type": "markdown",
      "source": [
        "인자가 몇개 넘어왔는지 모르겠으면, **를 파라미터 앞에 붙힌다"
      ],
      "metadata": {
        "id": "QHMJiQ6Gnq5T"
      }
    },
    {
      "cell_type": "code",
      "source": [
        "def my_function(**kid):\n",
        "  print(\"His last name is \" + kid[\"lname\"])\n",
        "\n",
        "my_function(fname = \"Tobias\", lname = \"Refsnes\")"
      ],
      "metadata": {
        "colab": {
          "base_uri": "https://localhost:8080/"
        },
        "id": "HsQMFtuSno0H",
        "outputId": "d2b42f34-56b9-442a-e8d9-444a710d88c8"
      },
      "execution_count": 53,
      "outputs": [
        {
          "output_type": "stream",
          "name": "stdout",
          "text": [
            "His last name is Refsnes\n"
          ]
        }
      ]
    },
    {
      "cell_type": "markdown",
      "source": [
        "아무 인자도 들어오지 않았을때에도 작동하게 하려면 default 값을 파라미터에 정의해준다."
      ],
      "metadata": {
        "id": "CthYypFnoAyt"
      }
    },
    {
      "cell_type": "code",
      "source": [
        "def my_function(country = \"Norway\"):\n",
        "  print(\"I am from \" + country)\n",
        "\n",
        "my_function(\"Sweden\")\n",
        "my_function(\"India\")\n",
        "my_function()\n",
        "my_function(\"Brazil\")"
      ],
      "metadata": {
        "colab": {
          "base_uri": "https://localhost:8080/"
        },
        "id": "f0g4cHiin-e9",
        "outputId": "91d9705b-eeed-4b74-9020-0405bf8d6993"
      },
      "execution_count": 54,
      "outputs": [
        {
          "output_type": "stream",
          "name": "stdout",
          "text": [
            "I am from Sweden\n",
            "I am from India\n",
            "I am from Norway\n",
            "I am from Brazil\n"
          ]
        }
      ]
    },
    {
      "cell_type": "markdown",
      "source": [
        "x라는 string 리스트를 인자로 받아, 인자 리스트만큼 반복하며 값을 출력하는 함수."
      ],
      "metadata": {
        "id": "34wiQb0voU87"
      }
    },
    {
      "cell_type": "code",
      "source": [
        "def my_function(food):\n",
        "  for x in food:\n",
        "    print(x)\n",
        "\n",
        "fruits = [\"apple\", \"banana\", \"cherry\"]\n",
        "\n",
        "my_function(fruits)"
      ],
      "metadata": {
        "colab": {
          "base_uri": "https://localhost:8080/"
        },
        "id": "sC-03v_QoS08",
        "outputId": "8d20b84d-14fa-4814-92ef-4499916ad274"
      },
      "execution_count": 55,
      "outputs": [
        {
          "output_type": "stream",
          "name": "stdout",
          "text": [
            "apple\n",
            "banana\n",
            "cherry\n"
          ]
        }
      ]
    },
    {
      "cell_type": "markdown",
      "source": [
        "입력되는 인자에 5를 곱해주는 함수"
      ],
      "metadata": {
        "id": "3OuatCOQo01v"
      }
    },
    {
      "cell_type": "code",
      "source": [
        "def my_function(x):\n",
        "  return 5 * x\n",
        "\n",
        "print(my_function(3))\n",
        "print(my_function(5))\n",
        "print(my_function(9))"
      ],
      "metadata": {
        "colab": {
          "base_uri": "https://localhost:8080/"
        },
        "id": "UHKv6ALmo0KD",
        "outputId": "ac500e90-3bc1-4690-cdab-d098e34b6341"
      },
      "execution_count": 56,
      "outputs": [
        {
          "output_type": "stream",
          "name": "stdout",
          "text": [
            "15\n",
            "25\n",
            "45\n"
          ]
        }
      ]
    },
    {
      "cell_type": "markdown",
      "source": [
        "내용이 텅빈 함수를 정의하고싶으면 pass라고 채워준다."
      ],
      "metadata": {
        "id": "1ujb-yf-o6w7"
      }
    },
    {
      "cell_type": "code",
      "source": [
        "def myfunction():\n",
        "  pass"
      ],
      "metadata": {
        "id": "BCfSOMWDo5B7"
      },
      "execution_count": 57,
      "outputs": []
    },
    {
      "cell_type": "markdown",
      "source": [
        "함수 호출시, (파라미터 이름 = 7) 등의 키워드 인수로 줄수없도록 슬래쉬 / 왼쪽에는 제한된다.\n",
        "*오른쪽으로는 오직 키워드 인수로만 가능하게 제한한다.\n",
        "/와 *사이의 y 파라미터는 둘다 가능하다!"
      ],
      "metadata": {
        "id": "QbLkAgg1pAoe"
      }
    },
    {
      "cell_type": "code",
      "source": [
        "def my_function(x, /, y, *, z):\n",
        "  print(x,y,z)\n",
        "\n",
        "my_function(3,2,z=1)"
      ],
      "metadata": {
        "colab": {
          "base_uri": "https://localhost:8080/"
        },
        "id": "qYFIYAVAo9ee",
        "outputId": "fd6df43c-f32f-4296-9b6f-1de0c0b4b89d"
      },
      "execution_count": 58,
      "outputs": [
        {
          "output_type": "stream",
          "name": "stdout",
          "text": [
            "3 2 1\n"
          ]
        }
      ]
    },
    {
      "cell_type": "markdown",
      "source": [
        "k=6 부터 출발하는 재귀함수, 결국 첫 결과인 1을 출력하기위해 7번 호출되어야한다."
      ],
      "metadata": {
        "id": "y8ER__sZqZGA"
      }
    },
    {
      "cell_type": "code",
      "source": [
        "def tri_recursion(k):\n",
        "  if(k > 0):\n",
        "    result = k + tri_recursion(k - 1)\n",
        "    print(result)\n",
        "  else:\n",
        "    result = 0\n",
        "  return result\n",
        "\n",
        "print(\"Recursion Example Results:\")\n",
        "tri_recursion(6)"
      ],
      "metadata": {
        "colab": {
          "base_uri": "https://localhost:8080/"
        },
        "id": "iHrkGVWnqYLV",
        "outputId": "22c7d4ac-155a-4dd4-8115-b9f6a6347c8f"
      },
      "execution_count": 59,
      "outputs": [
        {
          "output_type": "stream",
          "name": "stdout",
          "text": [
            "Recursion Example Results:\n",
            "1\n",
            "3\n",
            "6\n",
            "10\n",
            "15\n",
            "21\n"
          ]
        },
        {
          "output_type": "execute_result",
          "data": {
            "text/plain": [
              "21"
            ]
          },
          "metadata": {},
          "execution_count": 59
        }
      ]
    },
    {
      "cell_type": "markdown",
      "source": [
        "------------------------------------------------------------------------"
      ],
      "metadata": {
        "id": "maQ-k308qaoe"
      }
    },
   
