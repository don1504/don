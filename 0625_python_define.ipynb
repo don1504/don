{
  "nbformat": 4,
  "nbformat_minor": 0,
  "metadata": {
    "colab": {
      "provenance": [],
      "gpuType": "T4",
      "authorship_tag": "ABX9TyMLtwnGAt0fTQoZ1hduhDxC",
      "include_colab_link": true
    },
    "kernelspec": {
      "name": "python3",
      "display_name": "Python 3"
    },
    "language_info": {
      "name": "python"
    },
    "accelerator": "GPU"
  },
  "cells": [
    {
      "cell_type": "markdown",
      "metadata": {
        "id": "view-in-github",
        "colab_type": "text"
      },
      "source": [
        "<a href=\"https://colab.research.google.com/github/don1504/don/blob/main/0625_python_define.ipynb\" target=\"_parent\"><img src=\"https://colab.research.google.com/assets/colab-badge.svg\" alt=\"Open In Colab\"/></a>"
      ]
    },
    {
      "cell_type": "code",
      "source": [
        "class Person:\n",
        "    def __init__(self, name):\n",
        "        self.name = name\n",
        "\n",
        "    def say_hello(self):\n",
        "        print(f\"안녕! 나는 {self.name}이야.\")"
      ],
      "metadata": {
        "id": "9xezREkXgqh7"
      },
      "execution_count": 4,
      "outputs": []
    },
    {
      "cell_type": "markdown",
      "source": [
        "클래스 Person: def init (self, name): self.name = name\n"
      ],
      "metadata": {
        "id": "sY1_6C1Uuh9z"
      }
    },
    {
      "cell_type": "code",
      "source": [
        "class Counter:\n",
        "    def __init__(self):\n",
        "        self.count = 0\n",
        "\n",
        "    def add(self):\n",
        "        self.count += 1\n",
        "        print(\"현재 값:\", self.count)\n",
        "\n",
        "c = Counter()\n",
        "c.add()\n",
        "c.add()\n"
      ],
      "metadata": {
        "colab": {
          "base_uri": "https://localhost:8080/"
        },
        "id": "DjtXUz4_ujyE",
        "outputId": "3692d0c4-9e4b-4a46-abbc-8686d4f101a9"
      },
      "execution_count": 2,
      "outputs": [
        {
          "output_type": "stream",
          "name": "stdout",
          "text": [
            "현재 값: 1\n",
            "현재 값: 2\n"
          ]
        }
      ]
    },
    {
      "cell_type": "markdown",
      "source": [
        "클래스 - 숫자세기\n",
        "### **굵은 텍스트**"
      ],
      "metadata": {
        "id": "Ymv6n2q6utT-"
      }
    },
    {
      "cell_type": "code",
      "source": [
        "class Rectangle:\n",
        "    def __init__(self, width, height):\n",
        "        self.width = width\n",
        "        self.height = height\n",
        "\n",
        "    def area(self):\n",
        "        return self.width * self.height\n",
        "\n",
        "r = Rectangle(4, 5)\n",
        "print(\"넓이:\", r.area())\n"
      ],
      "metadata": {
        "colab": {
          "base_uri": "https://localhost:8080/"
        },
        "id": "aX-jQsq8uwxX",
        "outputId": "dcbefdaf-9383-471e-83bf-7305cf3a9a21"
      },
      "execution_count": 5,
      "outputs": [
        {
          "output_type": "stream",
          "name": "stdout",
          "text": [
            "넓이: 20\n"
          ]
        }
      ]
    },
    {
      "cell_type": "markdown",
      "source": [
        "클래스 - 넓이 구하기"
      ],
      "metadata": {
        "id": "61b8QRqmuzj5"
      }
    },
    {
      "cell_type": "code",
      "source": [
        "class Student:\n",
        "    def __init__(self, name, scores):\n",
        "        self.name = name\n",
        "        self.scores = scores\n",
        "\n",
        "    def average(self):\n",
        "        return sum(self.scores) / len(self.scores)\n",
        "\n",
        "s = Student(\"지민\", [90, 80, 70])\n",
        "print(f\"{s.name}의 평균 점수:\", s.average())\n"
      ],
      "metadata": {
        "colab": {
          "base_uri": "https://localhost:8080/"
        },
        "id": "9iZ2DmbHuwwc",
        "outputId": "10178934-8bca-48cd-db3d-2403deeb6c0a"
      },
      "execution_count": 6,
      "outputs": [
        {
          "output_type": "stream",
          "name": "stdout",
          "text": [
            "지민의 평균 점수: 80.0\n"
          ]
        }
      ]
    },
    {
      "cell_type": "markdown",
      "source": [
        "클래스 - 점수 평균구하기\n"
      ],
      "metadata": {
        "id": "F7KZfcBWu70n"
      }
    }
  ]
}