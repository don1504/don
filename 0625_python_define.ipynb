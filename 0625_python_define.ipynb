
# 클래스
class Person:
    def __init__(self, name):
        self.name = name

    def say_hello(self):
        print(f"안녕! 나는 {self.name}이야.")

class Animal:
    def __init__(self, kind):
        self.kind = kind

    def sound(self):
        print(f"{self.kind} 소리가 납니다.")

class Calculator:
    def add(self, a, b):
        return a + b

class Student:
    def __init__(self, name, grade):
        self.name = name
        self.grade = grade

    def info(self):
        return f"{self.name}의 성적은 {self.grade}"

class Car:
    def __init__(self, brand):
        self.brand = brand

    def drive(self):
        print(f"{self.brand} 자동차가 출발합니다!")

# 함수 정의
def greet():
    print("안녕하세요!")

def add(a, b):
    return a + b

def is_even(n):
    return n % 2 == 0

def square(n):
    return n ** 2

def say_name(name):
    return f"제 이름은 {name}입니다." 
