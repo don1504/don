{
  "nbformat": 4,
  "nbformat_minor": 0,
  "metadata": {
    "colab": {
      "provenance": [],
      "authorship_tag": "ABX9TyNjvuUQFiXuEkJJ3hbcQd3G",
      "include_colab_link": true
    },
    "kernelspec": {
      "name": "python3",
      "display_name": "Python 3"
    },
    "language_info": {
      "name": "python"
    }
  },
  "cells": [
    {
      "cell_type": "markdown",
      "metadata": {
        "id": "view-in-github",
        "colab_type": "text"
      },
      "source": [
        "<a href=\"https://colab.research.google.com/github/don1504/don/blob/main/0625_for%26while.ipynb\" target=\"_parent\"><img src=\"https://colab.research.google.com/assets/colab-badge.svg\" alt=\"Open In Colab\"/></a>"
      ]
    },
    {
      "cell_type": "markdown",
      "source": [
        "과일 목록에 있는 각 과일 인쇄"
      ],
      "metadata": {
        "id": "FO2oUavE3m50"
      }
    },
    {
      "cell_type": "code",
      "execution_count": 1,
      "metadata": {
        "colab": {
          "base_uri": "https://localhost:8080/"
        },
        "id": "u6tzJMjn3fDH",
        "outputId": "61b45283-78e2-4893-e4e2-e4f4d8758f44"
      },
      "outputs": [
        {
          "output_type": "stream",
          "name": "stdout",
          "text": [
            "apple\n",
            "banana\n",
            "cherry\n"
          ]
        }
      ],
      "source": [
        "fruits = [\"apple\", \"banana\", \"cherry\"]\n",
        "for x in fruits:\n",
        "  print(x)"
      ]
    },
    {
      "cell_type": "markdown",
      "source": [
        "문자열 반복"
      ],
      "metadata": {
        "id": "HfJypfjP3wwu"
      }
    },
    {
      "cell_type": "code",
      "source": [
        "for x in \"banana\":\n",
        "  print(x)\n"
      ],
      "metadata": {
        "colab": {
          "base_uri": "https://localhost:8080/"
        },
        "id": "BrdD6Fve31Pk",
        "outputId": "509f07c3-2463-4304-dd92-eefad8248000"
      },
      "execution_count": 2,
      "outputs": [
        {
          "output_type": "stream",
          "name": "stdout",
          "text": [
            "b\n",
            "a\n",
            "n\n",
            "a\n",
            "n\n",
            "a\n"
          ]
        }
      ]
    },
    {
      "cell_type": "markdown",
      "source": [
        "구구단"
      ],
      "metadata": {
        "id": "K7UIUHhZ32sR"
      }
    },
    {
      "cell_type": "code",
      "source": [
        "for i in range(1, 10):\n",
        "    print(\"2 x\", i, \"=\", 2 * i)"
      ],
      "metadata": {
        "colab": {
          "base_uri": "https://localhost:8080/"
        },
        "id": "67GgUaa94Bbe",
        "outputId": "2b451955-c1c5-40b6-f6c2-2a812ac53669"
      },
      "execution_count": 3,
      "outputs": [
        {
          "output_type": "stream",
          "name": "stdout",
          "text": [
            "2 x 1 = 2\n",
            "2 x 2 = 4\n",
            "2 x 3 = 6\n",
            "2 x 4 = 8\n",
            "2 x 5 = 10\n",
            "2 x 6 = 12\n",
            "2 x 7 = 14\n",
            "2 x 8 = 16\n",
            "2 x 9 = 18\n"
          ]
        }
      ]
    },
    {
      "cell_type": "markdown",
      "source": [
        "숫자의 합 구하기"
      ],
      "metadata": {
        "id": "Zv5eYssT32rI"
      }
    },
    {
      "cell_type": "code",
      "source": [
        "nums = [3, 5, 7]\n",
        "total = 0\n",
        "for num in nums:\n",
        "    total += num\n",
        "print(\"합계:\", total)\n"
      ],
      "metadata": {
        "colab": {
          "base_uri": "https://localhost:8080/"
        },
        "id": "YjpptRKQ4Hkr",
        "outputId": "7de45134-4a9f-4496-8502-907fb065195b"
      },
      "execution_count": 4,
      "outputs": [
        {
          "output_type": "stream",
          "name": "stdout",
          "text": [
            "합계: 15\n"
          ]
        }
      ]
    },
    {
      "cell_type": "markdown",
      "source": [
        "짝수만 출력하기\n"
      ],
      "metadata": {
        "id": "AnX2PII93wwB"
      }
    },
    {
      "cell_type": "code",
      "source": [
        "for i in range(1, 11):\n",
        "    if i % 2 == 0:\n",
        "        print(i)\n"
      ],
      "metadata": {
        "colab": {
          "base_uri": "https://localhost:8080/"
        },
        "id": "zkaHpJBw4SWe",
        "outputId": "7ea3936f-ad68-453c-bca4-7b43449e3161"
      },
      "execution_count": 7,
      "outputs": [
        {
          "output_type": "stream",
          "name": "stdout",
          "text": [
            "2\n",
            "4\n",
            "6\n",
            "8\n",
            "10\n"
          ]
        }
      ]
    },
    {
      "cell_type": "markdown",
      "source": [
        "1~5까지 출력\n"
      ],
      "metadata": {
        "id": "2NWEipVl8j_b"
      }
    },
    {
      "cell_type": "code",
      "source": [
        "i = 1\n",
        "while i <= 5:\n",
        "    print(i)\n",
        "    i += 1\n"
      ],
      "metadata": {
        "colab": {
          "base_uri": "https://localhost:8080/"
        },
        "id": "Rpnug6mL8lcW",
        "outputId": "4c2084ce-378a-4203-d2de-87509f3fe356"
      },
      "execution_count": 8,
      "outputs": [
        {
          "output_type": "stream",
          "name": "stdout",
          "text": [
            "1\n",
            "2\n",
            "3\n",
            "4\n",
            "5\n"
          ]
        }
      ]
    },
    {
      "cell_type": "markdown",
      "source": [
        "0부터 9까지 짝수만 출력"
      ],
      "metadata": {
        "id": "y__1c6fi8mVX"
      }
    },
    {
      "cell_type": "code",
      "source": [
        "i = 0\n",
        "while i < 10:\n",
        "    if i % 2 == 0:\n",
        "        print(i)\n",
        "    i += 1\n"
      ],
      "metadata": {
        "colab": {
          "base_uri": "https://localhost:8080/"
        },
        "id": "JeKIvQBL8pkP",
        "outputId": "5d0e59f4-2ca6-423d-d004-b248707bd74e"
      },
      "execution_count": 9,
      "outputs": [
        {
          "output_type": "stream",
          "name": "stdout",
          "text": [
            "0\n",
            "2\n",
            "4\n",
            "6\n",
            "8\n"
          ]
        }
      ]
    },
    {
      "cell_type": "markdown",
      "source": [
        "비밀번호 맞출때까지 재출력\n"
      ],
      "metadata": {
        "id": "-eUNaRp48m35"
      }
    },
    {
      "cell_type": "code",
      "source": [
        "password = \"\"\n",
        "while password != \"1234\":\n",
        "    password = input(\"비밀번호를 입력하세요: \")\n",
        "print(\"접속 성공!\")\n"
      ],
      "metadata": {
        "colab": {
          "base_uri": "https://localhost:8080/"
        },
        "id": "Mv1u03Iv8qvr",
        "outputId": "af8f74e5-9342-4156-8286-60496e0fc532"
      },
      "execution_count": 10,
      "outputs": [
        {
          "output_type": "stream",
          "name": "stdout",
          "text": [
            "비밀번호를 입력하세요: 1234\n",
            "접속 성공!\n"
          ]
        }
      ]
    },
    {
      "cell_type": "markdown",
      "source": [
        "숫자 누적합 100넘을때까지 더하기"
      ],
      "metadata": {
        "id": "VVBiP91F83cH"
      }
    },
    {
      "cell_type": "code",
      "source": [
        "total = 0\n",
        "i = 1\n",
        "while total <= 100:\n",
        "    total += i\n",
        "    i += 1\n",
        "print(\"총합이 100을 넘었습니다:\", total)\n"
      ],
      "metadata": {
        "colab": {
          "base_uri": "https://localhost:8080/"
        },
        "id": "oroGVuxf86eN",
        "outputId": "19013736-3304-4f07-f652-44593652f6b2"
      },
      "execution_count": 11,
      "outputs": [
        {
          "output_type": "stream",
          "name": "stdout",
          "text": [
            "총합이 100을 넘었습니다: 105\n"
          ]
        }
      ]
    },
    {
      "cell_type": "markdown",
      "source": [
        "##자율주행 자동차 예시 코드"
      ],
      "metadata": {
        "id": "Hu-P2EHb9Wtm"
      }
    },
    {
      "cell_type": "markdown",
      "source": [
        "앞에 있는 장애물까지의 거리를 여러 센서에서 읽어서 데이터 출력하기\n"
      ],
      "metadata": {
        "id": "iV9hxFKW9fyO"
      }
    },
    {
      "cell_type": "code",
      "source": [
        "sensor_values = [0.2, 0.4, 0.3, 0.7, 0.5]  # 거리 센서 데이터 (단위: m)\n",
        "\n",
        "for value in sensor_values:\n",
        "    print(\"센서 감지 거리:\", value, \"m\")\n"
      ],
      "metadata": {
        "colab": {
          "base_uri": "https://localhost:8080/"
        },
        "id": "QxAOu5Sm9g2_",
        "outputId": "be76525e-46c6-4533-b6e5-1db5b2207cbd"
      },
      "execution_count": 12,
      "outputs": [
        {
          "output_type": "stream",
          "name": "stdout",
          "text": [
            "센서 감지 거리: 0.2 m\n",
            "센서 감지 거리: 0.4 m\n",
            "센서 감지 거리: 0.3 m\n",
            "센서 감지 거리: 0.7 m\n",
            "센서 감지 거리: 0.5 m\n"
          ]
        }
      ]
    },
    {
      "cell_type": "markdown",
      "source": [
        "특정 속도로 일정 시간 동안 주행"
      ],
      "metadata": {
        "id": "wR2Yh3TG9iRp"
      }
    },
    {
      "cell_type": "code",
      "source": [
        "speed = 60  # km/h\n",
        "\n",
        "for second in range(1, 6):  # 1초부터 5초까지\n",
        "    print(f\"{second}초 동안 {speed}km/h로 주행 중...\")\n"
      ],
      "metadata": {
        "colab": {
          "base_uri": "https://localhost:8080/"
        },
        "id": "9WF0we-N9kv_",
        "outputId": "2417fb15-a1d3-4684-de82-a5c37cc89f5d"
      },
      "execution_count": 13,
      "outputs": [
        {
          "output_type": "stream",
          "name": "stdout",
          "text": [
            "1초 동안 60km/h로 주행 중...\n",
            "2초 동안 60km/h로 주행 중...\n",
            "3초 동안 60km/h로 주행 중...\n",
            "4초 동안 60km/h로 주행 중...\n",
            "5초 동안 60km/h로 주행 중...\n"
          ]
        }
      ]
    },
    {
      "cell_type": "markdown",
      "source": [
        "차선 감지 결과 판단\n",
        "\n"
      ],
      "metadata": {
        "id": "6CwL4k7T9nAU"
      }
    },
    {
      "cell_type": "code",
      "source": [
        "lane_status = [\"정상\", \"정상\", \"이탈\", \"정상\", \"이탈\"]\n",
        "\n",
        "for status in lane_status:\n",
        "    if status == \"이탈\":\n",
        "        print(\"❗ 차선 이탈! 경고 발생\")\n",
        "    else:\n",
        "        print(\"✔ 차선 유지 중\")\n"
      ],
      "metadata": {
        "colab": {
          "base_uri": "https://localhost:8080/"
        },
        "id": "TdMNfZo19oed",
        "outputId": "21b6cbfb-ee28-490e-f40f-a87244844f76"
      },
      "execution_count": 14,
      "outputs": [
        {
          "output_type": "stream",
          "name": "stdout",
          "text": [
            "✔ 차선 유지 중\n",
            "✔ 차선 유지 중\n",
            "❗ 차선 이탈! 경고 발생\n",
            "✔ 차선 유지 중\n",
            "❗ 차선 이탈! 경고 발생\n"
          ]
        }
      ]
    },
    {
      "cell_type": "markdown",
      "source": [
        "교통 표지판 인식 결과 출력"
      ],
      "metadata": {
        "id": "XVwdcVxl9m_i"
      }
    },
    {
      "cell_type": "code",
      "source": [
        "signs = [\"속도제한\", \"정지\", \"횡단보도\", \"신호등\"]\n",
        "\n",
        "for sign in signs:\n",
        "    print(\"인식된 표지판:\", sign)\n"
      ],
      "metadata": {
        "colab": {
          "base_uri": "https://localhost:8080/"
        },
        "id": "A_fRXGpz9oNJ",
        "outputId": "847ddbef-6d87-4db6-aa73-3016b30b482d"
      },
      "execution_count": 15,
      "outputs": [
        {
          "output_type": "stream",
          "name": "stdout",
          "text": [
            "인식된 표지판: 속도제한\n",
            "인식된 표지판: 정지\n",
            "인식된 표지판: 횡단보도\n",
            "인식된 표지판: 신호등\n"
          ]
        }
      ]
    },
    {
      "cell_type": "markdown",
      "source": [
        "주행 로그 저장 (시간별 위치)"
      ],
      "metadata": {
        "id": "PsRJgiat9sqj"
      }
    },
    {
      "cell_type": "code",
      "source": [
        "positions = [(0, 0), (1, 0), (2, 1), (3, 2), (4, 3)]\n",
        "\n",
        "for t in range(len(positions)):\n",
        "    x, y = positions[t]\n",
        "    print(f\"{t}초 후 위치: ({x}, {y})\")\n"
      ],
      "metadata": {
        "colab": {
          "base_uri": "https://localhost:8080/"
        },
        "id": "KLtq11Dx9try",
        "outputId": "1a3f6533-497c-40c9-f53e-0fa98cdb343e"
      },
      "execution_count": 16,
      "outputs": [
        {
          "output_type": "stream",
          "name": "stdout",
          "text": [
            "0초 후 위치: (0, 0)\n",
            "1초 후 위치: (1, 0)\n",
            "2초 후 위치: (2, 1)\n",
            "3초 후 위치: (3, 2)\n",
            "4초 후 위치: (4, 3)\n"
          ]
        }
      ]
    },
    {
      "cell_type": "markdown",
      "source": [
        "##while문"
      ],
      "metadata": {
        "id": "0DBHLukn9voz"
      }
    },
    {
      "cell_type": "markdown",
      "source": [
        " 충돌 직전까지 전진"
      ],
      "metadata": {
        "id": "ICXFTCnn9xYZ"
      }
    },
    {
      "cell_type": "code",
      "source": [
        "distance = 10  # 전방 장애물까지의 거리 (단위: m)\n",
        "\n",
        "while distance > 1:\n",
        "    print(\"전진 중... 남은 거리:\", distance, \"m\")\n",
        "    distance -= 1\n",
        "\n",
        "print(\"⚠ 멈춤! 장애물 앞 1m\")\n"
      ],
      "metadata": {
        "colab": {
          "base_uri": "https://localhost:8080/"
        },
        "id": "fXtBRJqB91gl",
        "outputId": "4b3c979c-4d84-45fa-fdd6-16ce6f7c6086"
      },
      "execution_count": 17,
      "outputs": [
        {
          "output_type": "stream",
          "name": "stdout",
          "text": [
            "전진 중... 남은 거리: 10 m\n",
            "전진 중... 남은 거리: 9 m\n",
            "전진 중... 남은 거리: 8 m\n",
            "전진 중... 남은 거리: 7 m\n",
            "전진 중... 남은 거리: 6 m\n",
            "전진 중... 남은 거리: 5 m\n",
            "전진 중... 남은 거리: 4 m\n",
            "전진 중... 남은 거리: 3 m\n",
            "전진 중... 남은 거리: 2 m\n",
            "⚠ 멈춤! 장애물 앞 1m\n"
          ]
        }
      ]
    },
    {
      "cell_type": "markdown",
      "source": [
        "차선 이탈 시 복귀 시도"
      ],
      "metadata": {
        "id": "yCbMbY4892sX"
      }
    },
    {
      "cell_type": "code",
      "source": [
        "lane_position = -2  # 음수면 왼쪽으로 이탈한 상태\n",
        "\n",
        "while lane_position != 0:\n",
        "    if lane_position < 0:\n",
        "        print(\"→ 오른쪽으로 복귀 중\")\n",
        "        lane_position += 1\n",
        "    elif lane_position > 0:\n",
        "        print(\"← 왼쪽으로 복귀 중\")\n",
        "        lane_position -= 1\n",
        "\n",
        "print(\"✔ 차선 중앙 복귀 완료\")\n"
      ],
      "metadata": {
        "colab": {
          "base_uri": "https://localhost:8080/"
        },
        "id": "1MdKyUVT93wI",
        "outputId": "7d358bfa-b44d-48f6-aca4-9a5464b9d6b8"
      },
      "execution_count": 18,
      "outputs": [
        {
          "output_type": "stream",
          "name": "stdout",
          "text": [
            "→ 오른쪽으로 복귀 중\n",
            "→ 오른쪽으로 복귀 중\n",
            "✔ 차선 중앙 복귀 완료\n"
          ]
        }
      ]
    },
    {
      "cell_type": "markdown",
      "source": [
        "연료가 떨어질 때까지 주행\n",
        "\n"
      ],
      "metadata": {
        "id": "qtO0sd37941i"
      }
    },
    {
      "cell_type": "code",
      "source": [
        "fuel = 5  # 단위: L\n",
        "\n",
        "while fuel > 0:\n",
        "    print(\"주행 중... 연료:\", fuel, \"L\")\n",
        "    fuel -= 1\n",
        "\n",
        "print(\"⛽ 연료 소진! 정차합니다.\")\n"
      ],
      "metadata": {
        "colab": {
          "base_uri": "https://localhost:8080/"
        },
        "id": "xhV2XdXc96u8",
        "outputId": "4f685306-7893-4a6e-82e4-e8b36904750c"
      },
      "execution_count": 19,
      "outputs": [
        {
          "output_type": "stream",
          "name": "stdout",
          "text": [
            "주행 중... 연료: 5 L\n",
            "주행 중... 연료: 4 L\n",
            "주행 중... 연료: 3 L\n",
            "주행 중... 연료: 2 L\n",
            "주행 중... 연료: 1 L\n",
            "⛽ 연료 소진! 정차합니다.\n"
          ]
        }
      ]
    },
    {
      "cell_type": "markdown",
      "source": [
        "정지 신호 대기"
      ],
      "metadata": {
        "id": "7No5jA8j98dN"
      }
    },
    {
      "cell_type": "code",
      "source": [
        "traffic_light = \"red\"\n",
        "\n",
        "while traffic_light == \"red\":\n",
        "    print(\"🔴 신호 대기 중...\")\n",
        "    traffic_light = input(\"신호등 색상 입력 (red/green): \")\n",
        "\n",
        "print(\"🟢 신호 변경됨! 출발합니다.\")\n"
      ],
      "metadata": {
        "id": "CY0-HMC098y8",
        "outputId": "7f909a3d-c67d-41a1-f979-645c3aaed80c",
        "colab": {
          "base_uri": "https://localhost:8080/"
        }
      },
      "execution_count": 20,
      "outputs": [
        {
          "output_type": "stream",
          "name": "stdout",
          "text": [
            "🔴 신호 대기 중...\n",
            "신호등 색상 입력 (red/green): red\n",
            "🔴 신호 대기 중...\n",
            "신호등 색상 입력 (red/green): green\n",
            "🟢 신호 변경됨! 출발합니다.\n"
          ]
        }
      ]
    },
    {
      "cell_type": "markdown",
      "source": [
        "속도 제한 지킬 때까지 감속"
      ],
      "metadata": {
        "id": "Mwb1A7jS9_AI"
      }
    },
    {
      "cell_type": "code",
      "source": [
        "speed = 100  # 현재 속도 km/h\n",
        "\n",
        "while speed > 60:\n",
        "    print(\"🚗 감속 중... 현재 속도:\", speed)\n",
        "    speed -= 10\n",
        "\n",
        "print(\"✅ 속도 제한 준수 완료! 현재 속도:\", speed)\n"
      ],
      "metadata": {
        "id": "w1jVbp1P9_6i",
        "outputId": "bfbb028f-070a-4edf-b33d-2d9cef01788d",
        "colab": {
          "base_uri": "https://localhost:8080/"
        }
      },
      "execution_count": 21,
      "outputs": [
        {
          "output_type": "stream",
          "name": "stdout",
          "text": [
            "🚗 감속 중... 현재 속도: 100\n",
            "🚗 감속 중... 현재 속도: 90\n",
            "🚗 감속 중... 현재 속도: 80\n",
            "🚗 감속 중... 현재 속도: 70\n",
            "✅ 속도 제한 준수 완료! 현재 속도: 60\n"
          ]
        }
      ]
    }
  ]
}