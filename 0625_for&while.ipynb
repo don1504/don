{
  "nbformat": 4,
  "nbformat_minor": 0,
  "metadata": {
    "colab": {
      "provenance": [],
      "authorship_tag": "ABX9TyOc8zc6M45XyTiajlnhzuD0",
      "include_colab_link": true
    },
    "kernelspec": {
      "name": "python3",
      "display_name": "Python 3"
    },
    "language_info": {
      "name": "python"
    }
  },
  "cells": [
    {
      "cell_type": "markdown",
      "metadata": {
        "id": "view-in-github",
        "colab_type": "text"
      },
      "source": [
        "<a href=\"https://colab.research.google.com/github/don1504/don/blob/main/0625_for%26while.ipynb\" target=\"_parent\"><img src=\"https://colab.research.google.com/assets/colab-badge.svg\" alt=\"Open In Colab\"/></a>"
      ]
    },
    {
      "cell_type": "markdown",
      "source": [
        "과일 목록에 있는 각 과일 인쇄"
      ],
      "metadata": {
        "id": "FO2oUavE3m50"
      }
    },
    {
      "cell_type": "code",
      "execution_count": 1,
      "metadata": {
        "colab": {
          "base_uri": "https://localhost:8080/"
        },
        "id": "u6tzJMjn3fDH",
        "outputId": "61b45283-78e2-4893-e4e2-e4f4d8758f44"
      },
      "outputs": [
        {
          "output_type": "stream",
          "name": "stdout",
          "text": [
            "apple\n",
            "banana\n",
            "cherry\n"
          ]
        }
      ],
      "source": [
        "fruits = [\"apple\", \"banana\", \"cherry\"]\n",
        "for x in fruits:\n",
        "  print(x)"
      ]
    },
    {
      "cell_type": "markdown",
      "source": [
        "문자열 반복"
      ],
      "metadata": {
        "id": "HfJypfjP3wwu"
      }
    },
    {
      "cell_type": "code",
      "source": [
        "for x in \"banana\":\n",
        "  print(x)\n"
      ],
      "metadata": {
        "colab": {
          "base_uri": "https://localhost:8080/"
        },
        "id": "BrdD6Fve31Pk",
        "outputId": "509f07c3-2463-4304-dd92-eefad8248000"
      },
      "execution_count": 2,
      "outputs": [
        {
          "output_type": "stream",
          "name": "stdout",
          "text": [
            "b\n",
            "a\n",
            "n\n",
            "a\n",
            "n\n",
            "a\n"
          ]
        }
      ]
    },
    {
      "cell_type": "markdown",
      "source": [
        "구구단"
      ],
      "metadata": {
        "id": "K7UIUHhZ32sR"
      }
    },
    {
      "cell_type": "code",
      "source": [
        "for i in range(1, 10):\n",
        "    print(\"2 x\", i, \"=\", 2 * i)"
      ],
      "metadata": {
        "colab": {
          "base_uri": "https://localhost:8080/"
        },
        "id": "67GgUaa94Bbe",
        "outputId": "2b451955-c1c5-40b6-f6c2-2a812ac53669"
      },
      "execution_count": 3,
      "outputs": [
        {
          "output_type": "stream",
          "name": "stdout",
          "text": [
            "2 x 1 = 2\n",
            "2 x 2 = 4\n",
            "2 x 3 = 6\n",
            "2 x 4 = 8\n",
            "2 x 5 = 10\n",
            "2 x 6 = 12\n",
            "2 x 7 = 14\n",
            "2 x 8 = 16\n",
            "2 x 9 = 18\n"
          ]
        }
      ]
    },
    {
      "cell_type": "markdown",
      "source": [
        "숫자의 합 구하기"
      ],
      "metadata": {
        "id": "Zv5eYssT32rI"
      }
    },
    {
      "cell_type": "code",
      "source": [
        "nums = [3, 5, 7]\n",
        "total = 0\n",
        "for num in nums:\n",
        "    total += num\n",
        "print(\"합계:\", total)\n"
      ],
      "metadata": {
        "colab": {
          "base_uri": "https://localhost:8080/"
        },
        "id": "YjpptRKQ4Hkr",
        "outputId": "7de45134-4a9f-4496-8502-907fb065195b"
      },
      "execution_count": 4,
      "outputs": [
        {
          "output_type": "stream",
          "name": "stdout",
          "text": [
            "합계: 15\n"
          ]
        }
      ]
    },
    {
      "cell_type": "markdown",
      "source": [
        "짝수만 출력하기\n"
      ],
      "metadata": {
        "id": "AnX2PII93wwB"
      }
    },
    {
      "cell_type": "code",
      "source": [
        "for i in range(1, 11):\n",
        "    if i % 2 == 0:\n",
        "        print(i)\n"
      ],
      "metadata": {
        "colab": {
          "base_uri": "https://localhost:8080/"
        },
        "id": "zkaHpJBw4SWe",
        "outputId": "7ea3936f-ad68-453c-bca4-7b43449e3161"
      },
      "execution_count": 7,
      "outputs": [
        {
          "output_type": "stream",
          "name": "stdout",
          "text": [
            "2\n",
            "4\n",
            "6\n",
            "8\n",
            "10\n"
          ]
        }
      ]
    },
    {
      "cell_type": "markdown",
      "source": [
        "1~5까지 출력\n"
      ],
      "metadata": {
        "id": "2NWEipVl8j_b"
      }
    },
    {
      "cell_type": "code",
      "source": [
        "i = 1\n",
        "while i <= 5:\n",
        "    print(i)\n",
        "    i += 1\n"
      ],
      "metadata": {
        "colab": {
          "base_uri": "https://localhost:8080/"
        },
        "id": "Rpnug6mL8lcW",
        "outputId": "4c2084ce-378a-4203-d2de-87509f3fe356"
      },
      "execution_count": 8,
      "outputs": [
        {
          "output_type": "stream",
          "name": "stdout",
          "text": [
            "1\n",
            "2\n",
            "3\n",
            "4\n",
            "5\n"
          ]
        }
      ]
    },
    {
      "cell_type": "markdown",
      "source": [
        "0부터 9까지 짝수만 출력"
      ],
      "metadata": {
        "id": "y__1c6fi8mVX"
      }
    },
    {
      "cell_type": "code",
      "source": [
        "i = 0\n",
        "while i < 10:\n",
        "    if i % 2 == 0:\n",
        "        print(i)\n",
        "    i += 1\n"
      ],
      "metadata": {
        "colab": {
          "base_uri": "https://localhost:8080/"
        },
        "id": "JeKIvQBL8pkP",
        "outputId": "5d0e59f4-2ca6-423d-d004-b248707bd74e"
      },
      "execution_count": 9,
      "outputs": [
        {
          "output_type": "stream",
          "name": "stdout",
          "text": [
            "0\n",
            "2\n",
            "4\n",
            "6\n",
            "8\n"
          ]
        }
      ]
    },
    {
      "cell_type": "markdown",
      "source": [
        "비밀번호 맞출때까지 재출력\n"
      ],
      "metadata": {
        "id": "-eUNaRp48m35"
      }
    },
    {
      "cell_type": "code",
      "source": [
        "password = \"\"\n",
        "while password != \"1234\":\n",
        "    password = input(\"비밀번호를 입력하세요: \")\n",
        "print(\"접속 성공!\")\n"
      ],
      "metadata": {
        "colab": {
          "base_uri": "https://localhost:8080/"
        },
        "id": "Mv1u03Iv8qvr",
        "outputId": "af8f74e5-9342-4156-8286-60496e0fc532"
      },
      "execution_count": 10,
      "outputs": [
        {
          "output_type": "stream",
          "name": "stdout",
          "text": [
            "비밀번호를 입력하세요: 1234\n",
            "접속 성공!\n"
          ]
        }
      ]
    },
    {
      "cell_type": "markdown",
      "source": [
        "숫자 누적합 100넘을때까지 더하기"
      ],
      "metadata": {
        "id": "VVBiP91F83cH"
      }
    },
    {
      "cell_type": "code",
      "source": [
        "total = 0\n",
        "i = 1\n",
        "while total <= 100:\n",
        "    total += i\n",
        "    i += 1\n",
        "print(\"총합이 100을 넘었습니다:\", total)\n"
      ],
      "metadata": {
        "id": "oroGVuxf86eN",
        "outputId": "19013736-3304-4f07-f652-44593652f6b2",
        "colab": {
          "base_uri": "https://localhost:8080/"
        }
      },
      "execution_count": 11,
      "outputs": [
        {
          "output_type": "stream",
          "name": "stdout",
          "text": [
            "총합이 100을 넘었습니다: 105\n"
          ]
        }
      ]
    }
  ]
}