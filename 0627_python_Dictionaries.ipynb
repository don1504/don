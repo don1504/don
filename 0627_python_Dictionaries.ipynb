{
  "nbformat": 4,
  "nbformat_minor": 0,
  "metadata": {
    "colab": {
      "provenance": [],
      "authorship_tag": "ABX9TyP+WuMz0lRfRQnLnd7rzGXu",
      "include_colab_link": true
    },
    "kernelspec": {
      "name": "python3",
      "display_name": "Python 3"
    },
    "language_info": {
      "name": "python"
    }
  },
  "cells": [
    {
      "cell_type": "markdown",
      "metadata": {
        "id": "view-in-github",
        "colab_type": "text"
      },
      "source": [
        "<a href=\"https://colab.research.google.com/github/don1504/don/blob/main/0627_python_Dictionaries.ipynb\" target=\"_parent\"><img src=\"https://colab.research.google.com/assets/colab-badge.svg\" alt=\"Open In Colab\"/></a>"
      ]
    },
    {
      "cell_type": "markdown",
      "source": [
        "숫자 제곱 딕셔너리 만들기"
      ],
      "metadata": {
        "id": "HPopehogyt2Z"
      }
    },
    {
      "cell_type": "code",
      "execution_count": 3,
      "metadata": {
        "colab": {
          "base_uri": "https://localhost:8080/"
        },
        "id": "MiezJIPmypTC",
        "outputId": "0702c799-7dec-4f37-cb90-5785311a0812"
      },
      "outputs": [
        {
          "output_type": "stream",
          "name": "stdout",
          "text": [
            "{0: 0, 1: 1, 2: 4, 3: 9, 4: 16}\n"
          ]
        }
      ],
      "source": [
        "squares = {x: x**2 for x in range(5)}\n",
        "print(squares)\n"
      ]
    },
    {
      "cell_type": "markdown",
      "source": [
        "리스트를 딕셔너리로 변환"
      ],
      "metadata": {
        "id": "UuKpMonx0Ycv"
      }
    },
    {
      "cell_type": "code",
      "source": [
        "fruits = [\"apple\", \"banana\", \"cherry\"]\n",
        "fruit_dict = {fruit: len(fruit) for fruit in fruits}\n",
        "print(fruit_dict)\n"
      ],
      "metadata": {
        "colab": {
          "base_uri": "https://localhost:8080/"
        },
        "id": "euP_9mO00Zrh",
        "outputId": "e98f9e37-ded3-41b2-b7f1-fc91ddd39df8"
      },
      "execution_count": 4,
      "outputs": [
        {
          "output_type": "stream",
          "name": "stdout",
          "text": [
            "{'apple': 5, 'banana': 6, 'cherry': 6}\n"
          ]
        }
      ]
    },
    {
      "cell_type": "markdown",
      "source": [
        "조건문 포함 (짝수만 저장)"
      ],
      "metadata": {
        "id": "pBCzuHF20dZp"
      }
    },
    {
      "cell_type": "code",
      "source": [
        "even_squares = {x: x**2 for x in range(10) if x % 2 == 0}\n",
        "print(even_squares)\n"
      ],
      "metadata": {
        "colab": {
          "base_uri": "https://localhost:8080/"
        },
        "id": "XQA2TvqS0dLI",
        "outputId": "25122e4a-02d8-4d41-de6f-6c2682b82e0c"
      },
      "execution_count": 5,
      "outputs": [
        {
          "output_type": "stream",
          "name": "stdout",
          "text": [
            "{0: 0, 2: 4, 4: 16, 6: 36, 8: 64}\n"
          ]
        }
      ]
    },
    {
      "cell_type": "markdown",
      "source": [
        "두 리스트를 키와 값으로 묶기"
      ],
      "metadata": {
        "id": "9AgwJvki0g3a"
      }
    },
    {
      "cell_type": "code",
      "source": [
        "keys = [\"a\", \"b\", \"c\"]\n",
        "values = [1, 2, 3]\n",
        "my_dict = {k: v for k, v in zip(keys, values)}\n",
        "print(my_dict)\n"
      ],
      "metadata": {
        "colab": {
          "base_uri": "https://localhost:8080/"
        },
        "id": "KN3z_o0f0iEE",
        "outputId": "520c681b-343f-4717-8a4b-e15486b40c86"
      },
      "execution_count": 6,
      "outputs": [
        {
          "output_type": "stream",
          "name": "stdout",
          "text": [
            "{'a': 1, 'b': 2, 'c': 3}\n"
          ]
        }
      ]
    },
    {
      "cell_type": "markdown",
      "source": [
        "날씨에 따른 주행 모드"
      ],
      "metadata": {
        "id": "ViIRHrDh0juv"
      }
    },
    {
      "cell_type": "code",
      "source": [
        "weather_conditions = ['맑음', '비', '눈', '안개']\n",
        "drive_modes = ['일반', '주의', '서행', '서행']\n",
        "weather_driving = {}\n",
        "weather_driving['맑음'] = '일반'\n",
        "weather_driving['비'] = '주의'\n",
        "weather_driving['눈'] = '서행'\n",
        "weather_driving['안개'] = '서행'\n",
        "\n",
        "print(\"날씨별 주행모드:\", weather_driving)\n"
      ],
      "metadata": {
        "colab": {
          "base_uri": "https://localhost:8080/"
        },
        "id": "2LopGvaH0s39",
        "outputId": "201671f4-0fbd-4fa2-ce2d-26266dcaf077"
      },
      "execution_count": 7,
      "outputs": [
        {
          "output_type": "stream",
          "name": "stdout",
          "text": [
            "날씨별 주행모드: {'맑음': '일반', '비': '주의', '눈': '서행', '안개': '서행'}\n"
          ]
        }
      ]
    },
    {
      "cell_type": "markdown",
      "source": [
        "각 주유소까지의 거리"
      ],
      "metadata": {
        "id": "l2V8qVRG0vQK"
      }
    },
    {
      "cell_type": "code",
      "source": [
        "station_names = ['GS칼텍스', '현대오일뱅크', '테슬라충전소', 'SK에너지']\n",
        "distances_to_stations = [2.5, 5.8, 1.2, 4.3]\n",
        "\n",
        "fuel_stations = {}\n",
        "fuel_stations['GS칼텍스'] = 2.5\n",
        "fuel_stations['현대오일뱅크'] = 5.8\n",
        "fuel_stations['테슬라충전소'] = 1.2\n",
        "fuel_stations['SK에너지'] = 4.3\n",
        "\n",
        "print(\"주유소까지 거리:\", fuel_stations)\n"
      ],
      "metadata": {
        "colab": {
          "base_uri": "https://localhost:8080/"
        },
        "id": "Did4Ar4g0w0B",
        "outputId": "323d1e33-0e91-46e8-f1d3-4a8f2cdede37"
      },
      "execution_count": 8,
      "outputs": [
        {
          "output_type": "stream",
          "name": "stdout",
          "text": [
            "주유소까지 거리: {'GS칼텍스': 2.5, '현대오일뱅크': 5.8, '테슬라충전소': 1.2, 'SK에너지': 4.3}\n"
          ]
        }
      ]
    },
    {
      "cell_type": "markdown",
      "source": [
        "도로 종류별 제한속도"
      ],
      "metadata": {
        "id": "o8_F4Sip0ylb"
      }
    },
    {
      "cell_type": "code",
      "source": [
        "road_sections = ['시내도로', '국도', '고속도로', '스쿨존']\n",
        "speed_limits = [50, 70, 100, 30]\n",
        "\n",
        "speed_zones = {}\n",
        "speed_zones['시내도로'] = 50\n",
        "speed_zones['국도'] = 70\n",
        "speed_zones['고속도로'] = 100\n",
        "speed_zones['스쿨존'] = 30\n",
        "\n",
        "print(\"구간별 제한속도:\", speed_zones)\n"
      ],
      "metadata": {
        "colab": {
          "base_uri": "https://localhost:8080/"
        },
        "id": "Sq5JSM110zrZ",
        "outputId": "001fd4b3-5ef9-429a-d221-22a444aba1cf"
      },
      "execution_count": 9,
      "outputs": [
        {
          "output_type": "stream",
          "name": "stdout",
          "text": [
            "구간별 제한속도: {'시내도로': 50, '국도': 70, '고속도로': 100, '스쿨존': 30}\n"
          ]
        }
      ]
    },
    {
      "cell_type": "markdown",
      "source": [
        "구역별 빈자리 개수"
      ],
      "metadata": {
        "id": "gnjBwWcc01wS"
      }
    },
    {
      "cell_type": "code",
      "source": [
        "parking_zones = ['A구역', 'B구역', 'C구역', 'D구역']\n",
        "empty_spots = [5, 0, 12, 3]\n",
        "\n",
        "parking_info = {}\n",
        "parking_info['A구역'] = 5\n",
        "parking_info['B구역'] = 0\n",
        "parking_info['C구역'] = 12\n",
        "parking_info['D구역'] = 3\n",
        "\n",
        "print(\"주차장 빈자리:\", parking_info)"
      ],
      "metadata": {
        "colab": {
          "base_uri": "https://localhost:8080/"
        },
        "id": "6X6VfVN-03HE",
        "outputId": "5b24111f-9ab1-42c3-fb26-ffbe22037390"
      },
      "execution_count": 12,
      "outputs": [
        {
          "output_type": "stream",
          "name": "stdout",
          "text": [
            "주차장 빈자리: {'A구역': 5, 'B구역': 0, 'C구역': 12, 'D구역': 3}\n"
          ]
        }
      ]
    }
  ]
}