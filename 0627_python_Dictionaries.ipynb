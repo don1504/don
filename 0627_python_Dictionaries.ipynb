{
  "nbformat": 4,
  "nbformat_minor": 0,
  "metadata": {
    "colab": {
      "provenance": [],
      "authorship_tag": "ABX9TyMEMXb5C/+J8wv9WwxdIyWL",
      "include_colab_link": true
    },
    "kernelspec": {
      "name": "python3",
      "display_name": "Python 3"
    },
    "language_info": {
      "name": "python"
    }
  },
  "cells": [
    {
      "cell_type": "markdown",
      "metadata": {
        "id": "view-in-github",
        "colab_type": "text"
      },
      "source": [
        "<a href=\"https://colab.research.google.com/github/don1504/don/blob/main/0627_python_Dictionaries.ipynb\" target=\"_parent\"><img src=\"https://colab.research.google.com/assets/colab-badge.svg\" alt=\"Open In Colab\"/></a>"
      ]
    },
    {
      "cell_type": "markdown",
      "source": [
        "숫자 제곱 딕셔너리 만들기"
      ],
      "metadata": {
        "id": "HPopehogyt2Z"
      }
    },
    {
      "cell_type": "code",
      "execution_count": 3,
      "metadata": {
        "colab": {
          "base_uri": "https://localhost:8080/"
        },
        "id": "MiezJIPmypTC",
        "outputId": "0702c799-7dec-4f37-cb90-5785311a0812"
      },
      "outputs": [
        {
          "output_type": "stream",
          "name": "stdout",
          "text": [
            "{0: 0, 1: 1, 2: 4, 3: 9, 4: 16}\n"
          ]
        }
      ],
      "source": [
        "squares = {x: x**2 for x in range(5)}\n",
        "print(squares)\n"
      ]
    },
    {
      "cell_type": "markdown",
      "source": [
        "리스트를 딕셔너리로 변환"
      ],
      "metadata": {
        "id": "UuKpMonx0Ycv"
      }
    },
    {
      "cell_type": "code",
      "source": [
        "fruits = [\"apple\", \"banana\", \"cherry\"]\n",
        "fruit_dict = {fruit: len(fruit) for fruit in fruits}\n",
        "print(fruit_dict)\n"
      ],
      "metadata": {
        "colab": {
          "base_uri": "https://localhost:8080/"
        },
        "id": "euP_9mO00Zrh",
        "outputId": "e98f9e37-ded3-41b2-b7f1-fc91ddd39df8"
      },
      "execution_count": 4,
      "outputs": [
        {
          "output_type": "stream",
          "name": "stdout",
          "text": [
            "{'apple': 5, 'banana': 6, 'cherry': 6}\n"
          ]
        }
      ]
    },
    {
      "cell_type": "markdown",
      "source": [
        "조건문 포함 (짝수만 저장)"
      ],
      "metadata": {
        "id": "pBCzuHF20dZp"
      }
    },
    {
      "cell_type": "code",
      "source": [
        "even_squares = {x: x**2 for x in range(10) if x % 2 == 0}\n",
        "print(even_squares)\n"
      ],
      "metadata": {
        "colab": {
          "base_uri": "https://localhost:8080/"
        },
        "id": "XQA2TvqS0dLI",
        "outputId": "25122e4a-02d8-4d41-de6f-6c2682b82e0c"
      },
      "execution_count": 5,
      "outputs": [
        {
          "output_type": "stream",
          "name": "stdout",
          "text": [
            "{0: 0, 2: 4, 4: 16, 6: 36, 8: 64}\n"
          ]
        }
      ]
    },
    {
      "cell_type": "markdown",
      "source": [
        "두 리스트를 키와 값으로 묶기"
      ],
      "metadata": {
        "id": "9AgwJvki0g3a"
      }
    },
    {
      "cell_type": "code",
      "source": [
        "keys = [\"a\", \"b\", \"c\"]\n",
        "values = [1, 2, 3]\n",
        "my_dict = {k: v for k, v in zip(keys, values)}\n",
        "print(my_dict)\n"
      ],
      "metadata": {
        "colab": {
          "base_uri": "https://localhost:8080/"
        },
        "id": "KN3z_o0f0iEE",
        "outputId": "520c681b-343f-4717-8a4b-e15486b40c86"
      },
      "execution_count": 6,
      "outputs": [
        {
          "output_type": "stream",
          "name": "stdout",
          "text": [
            "{'a': 1, 'b': 2, 'c': 3}\n"
          ]
        }
      ]
    },
    {
      "cell_type": "markdown",
      "source": [
        "날씨에 따른 주행 모드"
      ],
      "metadata": {
        "id": "ViIRHrDh0juv"
      }
    },
    {
      "cell_type": "code",
      "source": [
        "weather_conditions = ['맑음', '비', '눈', '안개']\n",
        "drive_modes = ['일반', '주의', '서행', '서행']\n",
        "weather_driving = {}\n",
        "weather_driving['맑음'] = '일반'\n",
        "weather_driving['비'] = '주의'\n",
        "weather_driving['눈'] = '서행'\n",
        "weather_driving['안개'] = '서행'\n",
        "\n",
        "print(\"날씨별 주행모드:\", weather_driving)\n"
      ],
      "metadata": {
        "colab": {
          "base_uri": "https://localhost:8080/"
        },
        "id": "2LopGvaH0s39",
        "outputId": "201671f4-0fbd-4fa2-ce2d-26266dcaf077"
      },
      "execution_count": 7,
      "outputs": [
        {
          "output_type": "stream",
          "name": "stdout",
          "text": [
            "날씨별 주행모드: {'맑음': '일반', '비': '주의', '눈': '서행', '안개': '서행'}\n"
          ]
        }
      ]
    },
    {
      "cell_type": "markdown",
      "source": [
        "각 주유소까지의 거리"
      ],
      "metadata": {
        "id": "l2V8qVRG0vQK"
      }
    },
    {
      "cell_type": "code",
      "source": [
        "station_names = ['GS칼텍스', '현대오일뱅크', '테슬라충전소', 'SK에너지']\n",
        "distances_to_stations = [2.5, 5.8, 1.2, 4.3]\n",
        "\n",
        "fuel_stations = {}\n",
        "fuel_stations['GS칼텍스'] = 2.5\n",
        "fuel_stations['현대오일뱅크'] = 5.8\n",
        "fuel_stations['테슬라충전소'] = 1.2\n",
        "fuel_stations['SK에너지'] = 4.3\n",
        "\n",
        "print(\"주유소까지 거리:\", fuel_stations)\n"
      ],
      "metadata": {
        "colab": {
          "base_uri": "https://localhost:8080/"
        },
        "id": "Did4Ar4g0w0B",
        "outputId": "323d1e33-0e91-46e8-f1d3-4a8f2cdede37"
      },
      "execution_count": 8,
      "outputs": [
        {
          "output_type": "stream",
          "name": "stdout",
          "text": [
            "주유소까지 거리: {'GS칼텍스': 2.5, '현대오일뱅크': 5.8, '테슬라충전소': 1.2, 'SK에너지': 4.3}\n"
          ]
        }
      ]
    },
    {
      "cell_type": "markdown",
      "source": [
        "도로 종류별 제한속도"
      ],
      "metadata": {
        "id": "o8_F4Sip0ylb"
      }
    },
    {
      "cell_type": "code",
      "source": [
        "road_sections = ['시내도로', '국도', '고속도로', '스쿨존']\n",
        "speed_limits = [50, 70, 100, 30]\n",
        "\n",
        "speed_zones = {}\n",
        "speed_zones['시내도로'] = 50\n",
        "speed_zones['국도'] = 70\n",
        "speed_zones['고속도로'] = 100\n",
        "speed_zones['스쿨존'] = 30\n",
        "\n",
        "print(\"구간별 제한속도:\", speed_zones)\n"
      ],
      "metadata": {
        "colab": {
          "base_uri": "https://localhost:8080/"
        },
        "id": "Sq5JSM110zrZ",
        "outputId": "001fd4b3-5ef9-429a-d221-22a444aba1cf"
      },
      "execution_count": 9,
      "outputs": [
        {
          "output_type": "stream",
          "name": "stdout",
          "text": [
            "구간별 제한속도: {'시내도로': 50, '국도': 70, '고속도로': 100, '스쿨존': 30}\n"
          ]
        }
      ]
    },
    {
      "cell_type": "markdown",
      "source": [
        "구역별 빈자리 개수"
      ],
      "metadata": {
        "id": "gnjBwWcc01wS"
      }
    },
    {
      "cell_type": "code",
      "source": [
        "parking_zones = ['A구역', 'B구역', 'C구역', 'D구역']\n",
        "empty_spots = [5, 0, 12, 3]\n",
        "\n",
        "parking_info = {}\n",
        "parking_info['A구역'] = 5\n",
        "parking_info['B구역'] = 0\n",
        "parking_info['C구역'] = 12\n",
        "parking_info['D구역'] = 3\n",
        "\n",
        "print(\"주차장 빈자리:\", parking_info)"
      ],
      "metadata": {
        "colab": {
          "base_uri": "https://localhost:8080/"
        },
        "id": "6X6VfVN-03HE",
        "outputId": "5b24111f-9ab1-42c3-fb26-ffbe22037390"
      },
      "execution_count": 12,
      "outputs": [
        {
          "output_type": "stream",
          "name": "stdout",
          "text": [
            "주차장 빈자리: {'A구역': 5, 'B구역': 0, 'C구역': 12, 'D구역': 3}\n"
          ]
        }
      ]
    },
    {
      "cell_type": "markdown",
      "source": [
        "센서 데이터 정리"
      ],
      "metadata": {
        "id": "m-jOT3vS3XvO"
      }
    },
    {
      "cell_type": "code",
      "source": [
        "sensors = [\"front\", \"left\", \"right\", \"rear\"]\n",
        "distances = [1.2, 0.5, 0.6, 1.0]\n",
        "\n",
        "sensor_data = {s: d for s, d in zip(sensors, distances)}\n",
        "print(sensor_data)"
      ],
      "metadata": {
        "colab": {
          "base_uri": "https://localhost:8080/"
        },
        "id": "9QbwYZLV3Yg-",
        "outputId": "6a42396f-328c-4dba-ae90-e2c1c9d19179"
      },
      "execution_count": 13,
      "outputs": [
        {
          "output_type": "stream",
          "name": "stdout",
          "text": [
            "{'front': 1.2, 'left': 0.5, 'right': 0.6, 'rear': 1.0}\n"
          ]
        }
      ]
    },
    {
      "cell_type": "markdown",
      "source": [
        "위험 감지 (0.7m 이하만 추출)"
      ],
      "metadata": {
        "id": "vNQmkRBg3bAv"
      }
    },
    {
      "cell_type": "code",
      "source": [
        "danger_zones = {s: d for s, d in sensor_data.items() if d < 0.7}\n",
        "print(danger_zones)"
      ],
      "metadata": {
        "colab": {
          "base_uri": "https://localhost:8080/"
        },
        "id": "rpLP_ttK3b-U",
        "outputId": "ca719f55-82ee-4e76-d6fa-9e9d37cc447c"
      },
      "execution_count": 14,
      "outputs": [
        {
          "output_type": "stream",
          "name": "stdout",
          "text": [
            "{'left': 0.5, 'right': 0.6}\n"
          ]
        }
      ]
    },
    {
      "cell_type": "markdown",
      "source": [
        "속도 단위 변환 (km/h → m/s)"
      ],
      "metadata": {
        "id": "MsKQWp3H3d8y"
      }
    },
    {
      "cell_type": "code",
      "source": [
        "vehicle_speeds_kmh = {\"car1\": 36, \"car2\": 72, \"car3\": 54}\n",
        "vehicle_speeds_mps = {v: round(kmh * 1000 / 3600, 2) for v, kmh in vehicle_speeds_kmh.items()}\n",
        "print(vehicle_speeds_mps)"
      ],
      "metadata": {
        "colab": {
          "base_uri": "https://localhost:8080/"
        },
        "id": "0Jxm6ilS3fQs",
        "outputId": "1d379785-7431-4b71-b91d-683d2d67f95d"
      },
      "execution_count": 15,
      "outputs": [
        {
          "output_type": "stream",
          "name": "stdout",
          "text": [
            "{'car1': 10.0, 'car2': 20.0, 'car3': 15.0}\n"
          ]
        }
      ]
    },
    {
      "cell_type": "markdown",
      "source": [
        "경로 좌표 정리 (딕셔너리로 인덱싱)"
      ],
      "metadata": {
        "id": "e_AOeNAQ3hOB"
      }
    },
    {
      "cell_type": "code",
      "source": [
        "path = [(37.1, 127.1), (37.2, 127.2), (37.3, 127.3)]\n",
        "path_dict = {i: coord for i, coord in enumerate(path)}\n",
        "print(path_dict)"
      ],
      "metadata": {
        "colab": {
          "base_uri": "https://localhost:8080/"
        },
        "id": "8ONHcFnn3i16",
        "outputId": "dc36d96f-a57f-4ac5-cad0-1f9068048901"
      },
      "execution_count": 16,
      "outputs": [
        {
          "output_type": "stream",
          "name": "stdout",
          "text": [
            "{0: (37.1, 127.1), 1: (37.2, 127.2), 2: (37.3, 127.3)}\n"
          ]
        }
      ]
    },
    {
      "cell_type": "markdown",
      "source": [
        "교차로별 대기 차량 수"
      ],
      "metadata": {
        "id": "tHP-lUkuIlZE"
      }
    },
    {
      "cell_type": "code",
      "source": [
        "intersections = ['서울역앞', '시청앞', '종로3가', '을지로입구']\n",
        "waiting_cars = [12, 8, 15, 5]\n",
        "\n",
        "# 현재 신호등 상태와 남은 시간\n",
        "traffic_signals = {}\n",
        "traffic_signals['서울역앞'] = {'color': '빨강', 'time_left': 25, 'waiting': 12}\n",
        "traffic_signals['시청앞'] = {'color': '초록', 'time_left': 15, 'waiting': 8}\n",
        "traffic_signals['종로3가'] = {'color': '빨강', 'time_left': 40, 'waiting': 15}\n",
        "traffic_signals['을지로입구'] = {'color': '노랑', 'time_left': 3, 'waiting': 5}\n",
        "\n",
        "print(\"현재 교차로 상황:\")\n",
        "for intersection in intersections:\n",
        "    signal = traffic_signals[intersection]\n",
        "    print(f\"{intersection}: {signal['color']} {signal['time_left']}초, 대기차량 {signal['waiting']}대\")\n",
        "\n",
        "# 우선순위 교차로 선정 (대기차량 10대 이상이면 우선처리)\n",
        "print(\"\\n우선처리 필요 교차로:\")\n",
        "for intersection in intersections:\n",
        "    if traffic_signals[intersection]['waiting'] >= 10:\n",
        "        print(f\"⚠️ {intersection}: 대기차량 {traffic_signals[intersection]['waiting']}대\")\n"
      ],
      "metadata": {
        "colab": {
          "base_uri": "https://localhost:8080/"
        },
        "id": "4Rxg-YBCImR2",
        "outputId": "f1581c34-3573-4c2a-84a3-045b5390bf64"
      },
      "execution_count": 17,
      "outputs": [
        {
          "output_type": "stream",
          "name": "stdout",
          "text": [
            "현재 교차로 상황:\n",
            "서울역앞: 빨강 25초, 대기차량 12대\n",
            "시청앞: 초록 15초, 대기차량 8대\n",
            "종로3가: 빨강 40초, 대기차량 15대\n",
            "을지로입구: 노랑 3초, 대기차량 5대\n",
            "\n",
            "우선처리 필요 교차로:\n",
            "⚠️ 서울역앞: 대기차량 12대\n",
            "⚠️ 종로3가: 대기차량 15대\n"
          ]
        }
      ]
    },
    {
      "cell_type": "markdown",
      "source": [
        "차량 크기별 분류"
      ],
      "metadata": {
        "id": "-HhzKJhAIoGA"
      }
    },
    {
      "cell_type": "code",
      "source": [
        "vehicle_sizes = ['소형', '중형', '대형', 'SUV']\n",
        "size_counts = [15, 20, 8, 12]\n",
        "\n",
        "# 주차공간 크기별 현황\n",
        "parking_spaces = {}\n",
        "parking_spaces['소형전용'] = {'total': 30, 'occupied': 15, 'size_limit': '소형'}\n",
        "parking_spaces['일반공간'] = {'total': 40, 'occupied': 28, 'size_limit': '중형'}\n",
        "parking_spaces['대형공간'] = {'total': 15, 'occupied': 8, 'size_limit': '대형'}\n",
        "parking_spaces['SUV전용'] = {'total': 20, 'occupied': 12, 'size_limit': 'SUV'}\n",
        "\n",
        "print(\"주차공간 현황:\")\n",
        "for space_type in parking_spaces:\n",
        "    space = parking_spaces[space_type]\n",
        "    available = space['total'] - space['occupied']\n",
        "    print(f\"{space_type}: {available}/{space['total']} 가능 ({space['size_limit']} 전용)\")\n"
      ],
      "metadata": {
        "colab": {
          "base_uri": "https://localhost:8080/"
        },
        "id": "-4VxevEwIpH9",
        "outputId": "8923e77f-50db-4499-e94e-64c3bb491475"
      },
      "execution_count": 18,
      "outputs": [
        {
          "output_type": "stream",
          "name": "stdout",
          "text": [
            "주차공간 현황:\n",
            "소형전용: 15/30 가능 (소형 전용)\n",
            "일반공간: 12/40 가능 (중형 전용)\n",
            "대형공간: 7/15 가능 (대형 전용)\n",
            "SUV전용: 8/20 가능 (SUV 전용)\n"
          ]
        }
      ]
    },
    {
      "cell_type": "markdown",
      "source": [
        "군집주행 그룹 정보"
      ],
      "metadata": {
        "id": "gISCDzo5IqpT"
      }
    },
    {
      "cell_type": "code",
      "source": [
        "convoy_groups = ['그룹A', '그룹B', '그룹C']\n",
        "group_vehicles = [[3, 4, 2], [5, 6, 8], [2, 3]]  # 각 그룹의 차량 수\n",
        "\n",
        "# 각 그룹별 상세 정보\n",
        "convoy_info = {}\n",
        "convoy_info['그룹A'] = {'vehicles': 3, 'leader_speed': 80, 'formation': '일렬'}\n",
        "convoy_info['그룹B'] = {'vehicles': 5, 'leader_speed': 70, 'formation': '삼각'}\n",
        "convoy_info['그룹C'] = {'vehicles': 2, 'leader_speed': 90, 'formation': '병렬'}\n",
        "\n",
        "print(\"군집주행 현황:\")\n",
        "for group in convoy_groups:\n",
        "    info = convoy_info[group]\n",
        "    print(f\"{group}: {info['vehicles']}대, 속도 {info['leader_speed']}km/h, {info['formation']}대형\")\n",
        "\n",
        "# 안전 속도 권장 (5대 이상이면 속도 제한)\n",
        "print(\"\\n안전 권장사항:\")\n",
        "for group in convoy_groups:\n",
        "    info = convoy_info[group]\n",
        "    if info['vehicles'] >= 5:\n",
        "        recommended_speed = 60\n",
        "        print(f\"{group}: 차량 {info['vehicles']}대로 인해 {recommended_speed}km/h 이하 권장\")\n"
      ],
      "metadata": {
        "colab": {
          "base_uri": "https://localhost:8080/"
        },
        "id": "1gWInPXqIr91",
        "outputId": "395a7c70-264e-4160-cfd4-37821f05a9f4"
      },
      "execution_count": 19,
      "outputs": [
        {
          "output_type": "stream",
          "name": "stdout",
          "text": [
            "군집주행 현황:\n",
            "그룹A: 3대, 속도 80km/h, 일렬대형\n",
            "그룹B: 5대, 속도 70km/h, 삼각대형\n",
            "그룹C: 2대, 속도 90km/h, 병렬대형\n",
            "\n",
            "안전 권장사항:\n",
            "그룹B: 차량 5대로 인해 60km/h 이하 권장\n"
          ]
        }
      ]
    },
    {
      "cell_type": "markdown",
      "source": [
        "적합한 주차공간 찾기"
      ],
      "metadata": {
        "id": "6EdKFz72Itry"
      }
    },
    {
      "cell_type": "code",
      "source": [
        "suitable_spaces = []\n",
        "for space_type in parking_spaces:\n",
        "    space = parking_spaces[space_type]\n",
        "    available = space['total'] - space['occupied']\n",
        "    if space['size_limit'] == new_vehicle and available > 0:\n",
        "        suitable_spaces.append(space_type)\n",
        "\n",
        "if suitable_spaces:\n",
        "    print(f\"✅ {suitable_spaces[0]}에 주차 가능\")\n",
        "else:\n",
        "    print(\"❌ 적합한 주차공간 없음\")\n"
      ],
      "metadata": {
        "colab": {
          "base_uri": "https://localhost:8080/"
        },
        "id": "y9lk0XZGIuha",
        "outputId": "c439d2e0-f038-466b-9966-b33b1a787c2b"
      },
      "execution_count": 25,
      "outputs": [
        {
          "output_type": "stream",
          "name": "stdout",
          "text": [
            "✅ 일반공간에 주차 가능\n"
          ]
        }
      ]
    }
  ]
}