{
  "nbformat": 4,
  "nbformat_minor": 0,
  "metadata": {
    "colab": {
      "provenance": [],
      "authorship_tag": "ABX9TyMBNuFfyHFMYFSnE7Gh7DD4",
      "include_colab_link": true
    },
    "kernelspec": {
      "name": "python3",
      "display_name": "Python 3"
    },
    "language_info": {
      "name": "python"
    }
  },
  "cells": [
    {
      "cell_type": "markdown",
      "metadata": {
        "id": "view-in-github",
        "colab_type": "text"
      },
      "source": [
        "<a href=\"https://colab.research.google.com/github/don1504/don/blob/main/0710_opencv_%EC%98%81%EC%83%81_Canny_Hough_%EC%B0%A8%EC%84%A0_%EA%B0%90%EC%A7%80.ipynb\" target=\"_parent\"><img src=\"https://colab.research.google.com/assets/colab-badge.svg\" alt=\"Open In Colab\"/></a>"
      ]
    },
    {
      "cell_type": "code",
      "execution_count": 1,
      "metadata": {
        "colab": {
          "base_uri": "https://localhost:8080/"
        },
        "id": "AvEv5WshDNdN",
        "outputId": "938210a5-a132-4ed8-9be1-83580aab838a"
      },
      "outputs": [
        {
          "output_type": "stream",
          "name": "stdout",
          "text": [
            "OpenCV 버전: 4.11.0\n"
          ]
        }
      ],
      "source": [
        "import cv2\n",
        "import numpy as np\n",
        "import matplotlib.pyplot as plt\n",
        "from IPython.display import HTML, display\n",
        "from google.colab.patches import cv2_imshow\n",
        "import os\n",
        "\n",
        "# OpenCV 버전 확인\n",
        "print(f\"OpenCV 버전: {cv2.__version__}\")\n",
        "\n",
        "# 영상 파일 경로 설정 (예시)\n",
        "video_path = '/content/김영빈_영상.mp4'"
      ]
    },
    {
      "cell_type": "code",
      "source": [
        "!pip install yt-dlp"
      ],
      "metadata": {
        "colab": {
          "base_uri": "https://localhost:8080/"
        },
        "id": "ODlYHBX6DO6M",
        "outputId": "214e0997-2467-400d-dd26-96ad7855c8b4"
      },
      "execution_count": 2,
      "outputs": [
        {
          "output_type": "stream",
          "name": "stdout",
          "text": [
            "Collecting yt-dlp\n",
            "  Downloading yt_dlp-2025.6.30-py3-none-any.whl.metadata (174 kB)\n",
            "\u001b[2K     \u001b[90m━━━━━━━━━━━━━━━━━━━━━━━━━━━━━━━━━━━━━━━\u001b[0m \u001b[32m174.3/174.3 kB\u001b[0m \u001b[31m4.1 MB/s\u001b[0m eta \u001b[36m0:00:00\u001b[0m\n",
            "\u001b[?25hDownloading yt_dlp-2025.6.30-py3-none-any.whl (3.3 MB)\n",
            "\u001b[2K   \u001b[90m━━━━━━━━━━━━━━━━━━━━━━━━━━━━━━━━━━━━━━━━\u001b[0m \u001b[32m3.3/3.3 MB\u001b[0m \u001b[31m45.3 MB/s\u001b[0m eta \u001b[36m0:00:00\u001b[0m\n",
            "\u001b[?25hInstalling collected packages: yt-dlp\n",
            "Successfully installed yt-dlp-2025.6.30\n"
          ]
        }
      ]
    },
    {
      "cell_type": "code",
      "source": [
        "!yt-dlp -f bestvideo+bestaudio --merge-output-format mp4 https://www.youtube.com/watch?v=tEtWnGwwCEc"
      ],
      "metadata": {
        "colab": {
          "base_uri": "https://localhost:8080/"
        },
        "id": "v-4xE2SmDQ8O",
        "outputId": "1007850e-9640-487d-bc2e-ddc7417715ae"
      },
      "execution_count": 8,
      "outputs": [
        {
          "output_type": "stream",
          "name": "stdout",
          "text": [
            "[youtube] Extracting URL: https://www.youtube.com/watch?v=tEtWnGwwCEc\n",
            "[youtube] tEtWnGwwCEc: Downloading webpage\n",
            "[youtube] tEtWnGwwCEc: Downloading tv client config\n",
            "[youtube] tEtWnGwwCEc: Downloading tv player API JSON\n",
            "[youtube] tEtWnGwwCEc: Downloading ios player API JSON\n",
            "\u001b[0;31mERROR:\u001b[0m [youtube] tEtWnGwwCEc: Sign in to confirm you’re not a bot. Use --cookies-from-browser or --cookies for the authentication. See  https://github.com/yt-dlp/yt-dlp/wiki/FAQ#how-do-i-pass-cookies-to-yt-dlp  for how to manually pass cookies. Also see  https://github.com/yt-dlp/yt-dlp/wiki/Extractors#exporting-youtube-cookies  for tips on effectively exporting YouTube cookies\n"
          ]
        }
      ]
    },
    {
      "cell_type": "code",
      "source": [
        "import cv2\n",
        "import yt_dlp\n",
        "import matplotlib.pyplot as plt\n",
        "import tempfile\n",
        "import os\n",
        "import time\n",
        "from IPython.display import clear_output\n",
        "\n",
        "def play_youtube_video(youtube_url, skip_frames=1):\n",
        "    \"\"\"\n",
        "    YouTube 영상을 다운로드하고 재생하는 간단한 함수\n",
        "    skip_frames: 프레임 건너뛰기 (1=모든 프레임, 2=한 프레임씩 건너뛰기)\n",
        "    \"\"\"\n",
        "\n",
        "    ydl_opts = {\n",
        "        'format': 'mp4/best[height<=480]',  # 480p로 제한 (빠른 처리)\n",
        "        'outtmpl': tempfile.gettempdir() + '/temp_video.%(ext)s',\n",
        "        'quiet': True,\n",
        "    }\n",
        "\n",
        "    try:\n",
        "        with yt_dlp.YoutubeDL(ydl_opts) as ydl:\n",
        "            print(\"⬇️ 영상 다운로드 중...\")\n",
        "            info = ydl.extract_info(youtube_url, download=True)\n",
        "\n",
        "            video_path = ydl.prepare_filename(info)\n",
        "\n",
        "            cap = cv2.VideoCapture(video_path)\n",
        "            fps = cap.get(cv2.CAP_PROP_FPS)\n",
        "            frame_count = int(cap.get(cv2.CAP_PROP_FRAME_COUNT))\n",
        "\n",
        "            print(f\"🎬 '{info['title']}' 재생 시작!\")\n",
        "            print(\"(Ctrl+C로 중단)\")\n",
        "\n",
        "            frame_num = 0\n",
        "            while True:\n",
        "                ret, frame = cap.read()\n",
        "                if not ret:\n",
        "                    break\n",
        "\n",
        "                # 프레임 건너뛰기\n",
        "                if frame_num % skip_frames == 0:\n",
        "                    clear_output(wait=True)\n",
        "                    plt.figure(figsize=(10, 6))\n",
        "                    plt.imshow(cv2.cvtColor(frame, cv2.COLOR_BGR2RGB))\n",
        "                    plt.title(f\"재생 중... ({frame_num}/{frame_count})\")\n",
        "                    plt.axis('off')\n",
        "                    plt.show()\n",
        "\n",
        "                    # 재생 속도 조절\n",
        "                    time.sleep(0.1)  # 0.1초 대기 (빠른 재생)\n",
        "\n",
        "                frame_num += 1\n",
        "\n",
        "            cap.release()\n",
        "            os.remove(video_path)\n",
        "            print(\"✅ 재생 완료!\")\n",
        "\n",
        "    except KeyboardInterrupt:\n",
        "        print(\"\\n⏹️ 재생 중단\")\n",
        "    except Exception as e:\n",
        "        print(f\"❌ 오류: {e}\")\n",
        "\n",
        "# 사용법\n",
        "youtube_url = input(\"YouTube URL: \")\n",
        "play_youtube_video(youtube_url, skip_frames=2)  # 한 프레임씩 건너뛰어 빠른 재생"
      ],
      "metadata": {
        "colab": {
          "base_uri": "https://localhost:8080/",
          "height": 355
        },
        "id": "ODBmCljUDWAt",
        "outputId": "19de1091-3710-4b1d-f851-22f96634a395"
      },
      "execution_count": 5,
      "outputs": [
        {
          "output_type": "error",
          "ename": "KeyboardInterrupt",
          "evalue": "Interrupted by user",
          "traceback": [
            "\u001b[0;31m---------------------------------------------------------------------------\u001b[0m",
            "\u001b[0;31mKeyboardInterrupt\u001b[0m                         Traceback (most recent call last)",
            "\u001b[0;32m/tmp/ipython-input-5-3825969080.py\u001b[0m in \u001b[0;36m<cell line: 0>\u001b[0;34m()\u001b[0m\n\u001b[1;32m     63\u001b[0m \u001b[0;34m\u001b[0m\u001b[0m\n\u001b[1;32m     64\u001b[0m \u001b[0;31m# 사용법\u001b[0m\u001b[0;34m\u001b[0m\u001b[0;34m\u001b[0m\u001b[0m\n\u001b[0;32m---> 65\u001b[0;31m \u001b[0myoutube_url\u001b[0m \u001b[0;34m=\u001b[0m \u001b[0minput\u001b[0m\u001b[0;34m(\u001b[0m\u001b[0;34m\"YouTube URL: \"\u001b[0m\u001b[0;34m)\u001b[0m\u001b[0;34m\u001b[0m\u001b[0;34m\u001b[0m\u001b[0m\n\u001b[0m\u001b[1;32m     66\u001b[0m \u001b[0mplay_youtube_video\u001b[0m\u001b[0;34m(\u001b[0m\u001b[0myoutube_url\u001b[0m\u001b[0;34m,\u001b[0m \u001b[0mskip_frames\u001b[0m\u001b[0;34m=\u001b[0m\u001b[0;36m2\u001b[0m\u001b[0;34m)\u001b[0m  \u001b[0;31m# 한 프레임씩 건너뛰어 빠른 재생\u001b[0m\u001b[0;34m\u001b[0m\u001b[0;34m\u001b[0m\u001b[0m\n",
            "\u001b[0;32m/usr/local/lib/python3.11/dist-packages/ipykernel/kernelbase.py\u001b[0m in \u001b[0;36mraw_input\u001b[0;34m(self, prompt)\u001b[0m\n\u001b[1;32m   1175\u001b[0m                 \u001b[0;34m\"raw_input was called, but this frontend does not support input requests.\"\u001b[0m\u001b[0;34m\u001b[0m\u001b[0;34m\u001b[0m\u001b[0m\n\u001b[1;32m   1176\u001b[0m             )\n\u001b[0;32m-> 1177\u001b[0;31m         return self._input_request(\n\u001b[0m\u001b[1;32m   1178\u001b[0m             \u001b[0mstr\u001b[0m\u001b[0;34m(\u001b[0m\u001b[0mprompt\u001b[0m\u001b[0;34m)\u001b[0m\u001b[0;34m,\u001b[0m\u001b[0;34m\u001b[0m\u001b[0;34m\u001b[0m\u001b[0m\n\u001b[1;32m   1179\u001b[0m             \u001b[0mself\u001b[0m\u001b[0;34m.\u001b[0m\u001b[0m_parent_ident\u001b[0m\u001b[0;34m[\u001b[0m\u001b[0;34m\"shell\"\u001b[0m\u001b[0;34m]\u001b[0m\u001b[0;34m,\u001b[0m\u001b[0;34m\u001b[0m\u001b[0;34m\u001b[0m\u001b[0m\n",
            "\u001b[0;32m/usr/local/lib/python3.11/dist-packages/ipykernel/kernelbase.py\u001b[0m in \u001b[0;36m_input_request\u001b[0;34m(self, prompt, ident, parent, password)\u001b[0m\n\u001b[1;32m   1217\u001b[0m             \u001b[0;32mexcept\u001b[0m \u001b[0mKeyboardInterrupt\u001b[0m\u001b[0;34m:\u001b[0m\u001b[0;34m\u001b[0m\u001b[0;34m\u001b[0m\u001b[0m\n\u001b[1;32m   1218\u001b[0m                 \u001b[0;31m# re-raise KeyboardInterrupt, to truncate traceback\u001b[0m\u001b[0;34m\u001b[0m\u001b[0;34m\u001b[0m\u001b[0m\n\u001b[0;32m-> 1219\u001b[0;31m                 \u001b[0;32mraise\u001b[0m \u001b[0mKeyboardInterrupt\u001b[0m\u001b[0;34m(\u001b[0m\u001b[0;34m\"Interrupted by user\"\u001b[0m\u001b[0;34m)\u001b[0m \u001b[0;32mfrom\u001b[0m \u001b[0;32mNone\u001b[0m\u001b[0;34m\u001b[0m\u001b[0;34m\u001b[0m\u001b[0m\n\u001b[0m\u001b[1;32m   1220\u001b[0m             \u001b[0;32mexcept\u001b[0m \u001b[0mException\u001b[0m\u001b[0;34m:\u001b[0m\u001b[0;34m\u001b[0m\u001b[0;34m\u001b[0m\u001b[0m\n\u001b[1;32m   1221\u001b[0m                 \u001b[0mself\u001b[0m\u001b[0;34m.\u001b[0m\u001b[0mlog\u001b[0m\u001b[0;34m.\u001b[0m\u001b[0mwarning\u001b[0m\u001b[0;34m(\u001b[0m\u001b[0;34m\"Invalid Message:\"\u001b[0m\u001b[0;34m,\u001b[0m \u001b[0mexc_info\u001b[0m\u001b[0;34m=\u001b[0m\u001b[0;32mTrue\u001b[0m\u001b[0;34m)\u001b[0m\u001b[0;34m\u001b[0m\u001b[0;34m\u001b[0m\u001b[0m\n",
            "\u001b[0;31mKeyboardInterrupt\u001b[0m: Interrupted by user"
          ]
        }
      ]
    },
    {
      "cell_type": "code",
      "source": [
        "# 4.\n",
        "import cv2\n",
        "from google.colab import files\n",
        "import matplotlib.pyplot as plt\n",
        "import numpy as np\n",
        "from IPython.display import clear_output\n",
        "import time\n",
        "\n",
        "# 영상 업로드\n",
        "#uploaded = files.upload()\n",
        "video_path = \"/content/sample_data/around5.mp4\"\n",
        "\n",
        "# 영상 열기\n",
        "cap = cv2.VideoCapture(video_path)\n",
        "fps = cap.get(cv2.CAP_PROP_FPS)\n",
        "frame_count = int(cap.get(cv2.CAP_PROP_FRAME_COUNT))\n",
        "\n",
        "print(f\"📹 영상 정보: {frame_count}프레임, {fps:.2f}FPS\")\n",
        "print(\"🎬 차선 인식 시작! (Ctrl+C로 중단)\")\n",
        "\n",
        "frame_num = 0\n",
        "try:\n",
        "    while True:\n",
        "        ret, frame = cap.read()\n",
        "        if not ret:\n",
        "            print(\"📺 영상 재생 완료\")\n",
        "            break\n",
        "\n",
        "        # 1. 그레이스케일 변환\n",
        "        gray = cv2.cvtColor(frame, cv2.COLOR_BGR2GRAY)\n",
        "\n",
        "        # 2. 블러 → 에지(Canny) - 임계값 낮춤\n",
        "        blur = cv2.GaussianBlur(gray, (5, 5), 0)\n",
        "        edges = cv2.Canny(blur, 30, 100)  # 50,150 → 30,100\n",
        "\n",
        "        # 3. ROI 설정 - 하단 30%\n",
        "        height, width = edges.shape\n",
        "        mask = np.zeros_like(edges)\n",
        "        polygon = np.array([[\n",
        "            (int(width * 0.1), height),            # 왼쪽 아래\n",
        "            (int(width * 0.9), height),            # 오른쪽 아래\n",
        "            (int(width * 0.6), int(height * 0.7)), # 오른쪽 위 (70% 지점)\n",
        "            (int(width * 0.4), int(height * 0.7))  # 왼쪽 위 (70% 지점)\n",
        "        ]])\n",
        "        cv2.fillPoly(mask, polygon, 255)\n",
        "        roi = cv2.bitwise_and(edges, mask)\n",
        "\n",
        "        # 4. Hough Transform으로 직선 검출 - 파라미터 완화\n",
        "        lines = cv2.HoughLinesP(roi, 2, np.pi / 180,\n",
        "                               threshold=30,      # 50 → 30\n",
        "                               minLineLength=30,  # 40 → 30\n",
        "                               maxLineGap=80)     # 50 → 80\n",
        "\n",
        "        # 5. 원본 프레임에 선 그리기\n",
        "        line_image = frame.copy()\n",
        "        if lines is not None:\n",
        "            for line in lines:\n",
        "                x1, y1, x2, y2 = line[0]\n",
        "                cv2.line(line_image, (x1, y1), (x2, y2), (0, 255, 0), 5)\n",
        "\n",
        "        # 6. 결과 출력\n",
        "        clear_output(wait=True)\n",
        "        plt.figure(figsize=(12, 6))\n",
        "        plt.subplot(1, 2, 1)\n",
        "        plt.imshow(cv2.cvtColor(frame, cv2.COLOR_BGR2RGB))\n",
        "        plt.title(f\"원본 프레임 {frame_num}\")\n",
        "        plt.axis('off')\n",
        "\n",
        "        plt.subplot(1, 2, 2)\n",
        "        plt.imshow(cv2.cvtColor(line_image, cv2.COLOR_BGR2RGB))\n",
        "        plt.title(f\"차선 인식 결과 ({len(lines) if lines is not None else 0}개)\")\n",
        "        plt.axis('off')\n",
        "        plt.show()\n",
        "\n",
        "        frame_num += 1\n",
        "        time.sleep(10)  # 10초마다 이걸 바꿔본다.\n",
        "\n",
        "except KeyboardInterrupt:\n",
        "    print(\"\\n⏹️ 재생 중단\")\n",
        "\n",
        "cap.release()"
      ],
      "metadata": {
        "id": "B_CV-z_mDnvT"
      },
      "execution_count": null,
      "outputs": []
    }
  ]
}