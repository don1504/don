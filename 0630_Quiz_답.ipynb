{
  "nbformat": 4,
  "nbformat_minor": 0,
  "metadata": {
    "colab": {
      "provenance": [],
      "authorship_tag": "ABX9TyPdt4bmgqtVenu3j28Cm749",
      "include_colab_link": true
    },
    "kernelspec": {
      "name": "python3",
      "display_name": "Python 3"
    },
    "language_info": {
      "name": "python"
    }
  },
  "cells": [
    {
      "cell_type": "markdown",
      "metadata": {
        "id": "view-in-github",
        "colab_type": "text"
      },
      "source": [
        "<a href=\"https://colab.research.google.com/github/don1504/don/blob/main/0630_Quiz_%EB%8B%B5.ipynb\" target=\"_parent\"><img src=\"https://colab.research.google.com/assets/colab-badge.svg\" alt=\"Open In Colab\"/></a>"
      ]
    },
    {
      "cell_type": "code",
      "execution_count": 4,
      "metadata": {
        "colab": {
          "base_uri": "https://localhost:8080/"
        },
        "id": "57jMox4ebQ1K",
        "outputId": "086bfc83-5f7c-4df9-a4b3-62dacfbb22b4"
      },
      "outputs": [
        {
          "output_type": "stream",
          "name": "stdout",
          "text": [
            "🚗 자율주행 장애물 감지 시스템\n",
            "------------------------------\n",
            "\n",
            " 감지된 장애물: ['앞', '오른쪽']\n",
            "\n",
            " 행동 결정 중...\n",
            " 좌회전\n"
          ]
        }
      ],
      "source": [
        "\n",
        "sensors = {\n",
        "    \"앞\": 8.0,\n",
        "    \"왼쪽\": 15.0,\n",
        "    \"오른쪽\": 4.0\n",
        "}\n",
        "\n",
        "safe_distance = 10.0\n",
        "\n",
        "def detect_obstacles(sensor_data, safe_distance):\n",
        "    obstacles = []\n",
        "    for direction, distance in sensor_data.items():\n",
        "        if distance < safe_distance:\n",
        "            obstacles.append(direction)\n",
        "    return obstacles\n",
        "\n",
        "def decide_action(obstacles):\n",
        "    print(\"\\n 행동 결정 중...\")\n",
        "    if \"앞\" not in obstacles and \"왼쪽\" in obstacles and \"오른쪽\" in obstacles:\n",
        "        print( \"조심히 직진\")\n",
        "    elif \"오른쪽\" not in obstacles:\n",
        "        print(\" 우회전\")\n",
        "    elif \"왼쪽\" not in obstacles:\n",
        "        print(\" 좌회전\")\n",
        "    elif \"앞\" not in obstacles:\n",
        "        print(\" 직진\")\n",
        "    else:\n",
        "        print(\" 정지 또는 경고\")\n",
        "\n",
        "# 2. 메인 실행문\n",
        "if __name__ == \"__main__\":\n",
        "    print(\"🚗 자율주행 장애물 감지 시스템\")\n",
        "    print(\"-\" * 30)\n",
        "\n",
        "    # 장애물 감지\n",
        "    obstacles = detect_obstacles(sensors, safe_distance)\n",
        "    print(f\"\\n 감지된 장애물: {obstacles}\")\n",
        "\n",
        "    # 행동 결정\n",
        "    decide_action(obstacles)\n"
      ]
    }
  ]
}