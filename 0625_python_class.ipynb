{
  "nbformat": 4,
  "nbformat_minor": 0,
  "metadata": {
    "colab": {
      "provenance": [],
      "authorship_tag": "ABX9TyNwOvl1imeOCq6TtP8y2V/X",
      "include_colab_link": true
    },
    "kernelspec": {
      "name": "python3",
      "display_name": "Python 3"
    },
    "language_info": {
      "name": "python"
    }
  },
  "cells": [
    {
      "cell_type": "markdown",
      "metadata": {
        "id": "view-in-github",
        "colab_type": "text"
      },
      "source": [
        "<a href=\"https://colab.research.google.com/github/don1504/don/blob/main/0625_python_class.ipynb\" target=\"_parent\"><img src=\"https://colab.research.google.com/assets/colab-badge.svg\" alt=\"Open In Colab\"/></a>"
      ]
    },
    {
      "cell_type": "code",
      "execution_count": 1,
      "metadata": {
        "id": "M1iL_e5IrUcB"
      },
      "outputs": [],
      "source": [
        "class VehicleTracker:\n",
        "    def __init__(self):\n",
        "        self.tracks = {}\n",
        "        self.next_id = 0\n",
        "\n",
        "    def update(self, detections):\n",
        "        for detection in detections:\n",
        "            track_id = self.assign_track(detection)\n",
        "            self.tracks[track_id] = detection\n",
        "\n",
        "    def assign_track(self, detection):\n",
        "        # 트래킹 로직\n",
        "        return self.next_id"
      ]
    },
    {
      "cell_type": "markdown",
      "source": [
        "감지된 차량들을 순차적으로 고유 ID로 등록해 추적 정보를 갱신하는 차량 트래킹 클래스 코드\n"
      ],
      "metadata": {
        "id": "IXflyjlHrlDQ"
      }
    },
    {
      "cell_type": "code",
      "source": [
        "class LoginTracker:\n",
        "    def __init__(self):\n",
        "        self.logged_in_users = set()\n",
        "\n",
        "    def login(self, user):\n",
        "        self.logged_in_users.add(user)\n",
        "\n",
        "    def logout(self, user):\n",
        "        self.logged_in_users.discard(user)\n"
      ],
      "metadata": {
        "id": "Is_lglDPrxql"
      },
      "execution_count": 2,
      "outputs": []
    },
    {
      "cell_type": "markdown",
      "source": [
        "사용자 로그인 추적기"
      ],
      "metadata": {
        "id": "no71kqh9r0Hl"
      }
    },
    {
      "cell_type": "code",
      "source": [
        "class SensorLogger:\n",
        "    def __init__(self):\n",
        "        self.log = []\n",
        "\n",
        "    def record(self, value):\n",
        "        self.log.append(value)\n",
        "\n",
        "    def latest(self):\n",
        "        return self.log[-1] if self.log else None\n"
      ],
      "metadata": {
        "id": "PQfIZUDQr34w"
      },
      "execution_count": 3,
      "outputs": []
    },
    {
      "cell_type": "markdown",
      "source": [
        "센서 데이터 기록기"
      ],
      "metadata": {
        "id": "ouBRkEF1r5qD"
      }
    },
    {
      "cell_type": "code",
      "source": [
        "class ObjectClassifier:\n",
        "    def __init__(self):\n",
        "        self.labels = {}\n",
        "\n",
        "    def classify(self, images):\n",
        "        for image in images:\n",
        "            label = self.predict(image)\n",
        "            self.labels[image] = label\n",
        "\n",
        "    def predict(self, image):\n",
        "        return \"unknown\"\n"
      ],
      "metadata": {
        "id": "PSb4msrar_uD"
      },
      "execution_count": 4,
      "outputs": []
    },
    {
      "cell_type": "markdown",
      "source": [
        "물체 분류기"
      ],
      "metadata": {
        "id": "StfBXqqMsDcX"
      }
    },
    {
      "cell_type": "code",
      "source": [
        "class FaceRecognizer:\n",
        "    def __init__(self):\n",
        "        self.faces = {}\n",
        "        self.next_id = 0\n",
        "\n",
        "    def update(self, detections):\n",
        "        for face in detections:\n",
        "            face_id = self.assign_id(face)\n",
        "            self.faces[face_id] = face\n",
        "\n",
        "    def assign_id(self, face):\n",
        "        return self.next_id\n"
      ],
      "metadata": {
        "id": "gybB7Ux3sF2o"
      },
      "execution_count": 5,
      "outputs": []
    },
    {
      "cell_type": "markdown",
      "source": [
        "사람 얼굴 인식기\n"
      ],
      "metadata": {
        "id": "7Jc2D6QXsOGP"
      }
    }
  ]
}