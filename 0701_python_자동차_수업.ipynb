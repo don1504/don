{
  "nbformat": 4,
  "nbformat_minor": 0,
  "metadata": {
    "colab": {
      "provenance": [],
      "authorship_tag": "ABX9TyOM0TN4py5dm0XHrS49g0Dg",
      "include_colab_link": true
    },
    "kernelspec": {
      "name": "python3",
      "display_name": "Python 3"
    },
    "language_info": {
      "name": "python"
    }
  },
  "cells": [
    {
      "cell_type": "markdown",
      "metadata": {
        "id": "view-in-github",
        "colab_type": "text"
      },
      "source": [
        "<a href=\"https://colab.research.google.com/github/don1504/don/blob/main/0701_python_%EC%9E%90%EB%8F%99%EC%B0%A8_%EC%88%98%EC%97%85.ipynb\" target=\"_parent\"><img src=\"https://colab.research.google.com/assets/colab-badge.svg\" alt=\"Open In Colab\"/></a>"
      ]
    },
    {
      "cell_type": "markdown",
      "source": [
        "1번 flowchart https://claude.ai/public/artifacts/ecfa16b4-2106-4e7b-a637-a17f20eb3126"
      ],
      "metadata": {
        "id": "iHYFlQnNilAY"
      }
    },
    {
      "cell_type": "code",
      "execution_count": 16,
      "metadata": {
        "colab": {
          "base_uri": "https://localhost:8080/"
        },
        "id": "eXFsZdTZXH7-",
        "outputId": "76bfcee5-fe4d-4379-bb66-57b7f2525adf"
      },
      "outputs": [
        {
          "output_type": "stream",
          "name": "stdout",
          "text": [
            "센서 초기값: {'앞': 15.0, '왼쪽': 15.0, '오른쪽': 15.0}\n"
          ]
        }
      ],
      "source": [
        "def init_sensors():\n",
        "\n",
        "    sensors = {\n",
        "        \"앞\": 15.0,\n",
        "        \"왼쪽\": 15.0,\n",
        "        \"오른쪽\": 15.0\n",
        "    }\n",
        "\n",
        "    print(\"센서 초기값:\", sensors)\n",
        "\n",
        "    return sensors\n",
        "\n",
        "s = init_sensors()\n"
      ]
    },
    {
      "cell_type": "markdown",
      "source": [
        "2번 flowchart https://claude.ai/public/artifacts/2bacfb57-fa54-46bf-bd52-f4d858b045a4"
      ],
      "metadata": {
        "id": "izEVI1mpipQm"
      }
    },
    {
      "cell_type": "code",
      "source": [
        "def scan_front(x, y, obstacles, sensors):\n",
        "    print(\"2-04 앞쪽 스캔 시작\")\n",
        "\n",
        "    if (x, y+1) in obstacles:\n",
        "        print(\"2-06 앞쪽 1칸 장애물 발견\")\n",
        "        sensors[\"앞\"] = 1.0\n",
        "\n",
        "    elif (x, y+2) in obstacles:\n",
        "        print(\"2-10 앞쪽 2칸 장애물 발견\")\n",
        "        sensors[\"앞\"] = 2.0\n",
        "\n",
        "    elif (x, y+3) in obstacles:\n",
        "        print(\"2-13 앞쪽 3칸 장애물 발견\")\n",
        "        sensors[\"앞\"] = 3.0\n",
        "\n",
        "    else:\n",
        "        print(\"2-15 앞쪽 장애물 없음 → 센서값 유지\")\n",
        "        sensors[\"앞\"] = 15.0\n",
        "\n",
        "    print(\"2-16 앞쪽 스캔 종료\")\n",
        "\n",
        "x = 2\n",
        "y = 3\n",
        "obstacles = [(2, 4), (2, 6)]\n",
        "sensors = {\n",
        "    \"앞\": 15.0,\n",
        "    \"왼쪽\": 15.0,\n",
        "    \"오른쪽\": 15.0\n",
        "}\n",
        "\n",
        "scan_front(x, y, obstacles, sensors)\n",
        "print(\"📡 최종 센서값:\", sensors)\n"
      ],
      "metadata": {
        "id": "qciaPsJuaNgl",
        "colab": {
          "base_uri": "https://localhost:8080/"
        },
        "outputId": "2a6b2b4f-b4cd-4812-a34e-2ed8ecee453f"
      },
      "execution_count": 18,
      "outputs": [
        {
          "output_type": "stream",
          "name": "stdout",
          "text": [
            "2-04 앞쪽 스캔 시작\n",
            "2-06 앞쪽 1칸 장애물 발견\n",
            "2-16 앞쪽 스캔 종료\n",
            "📡 최종 센서값: {'앞': 1.0, '왼쪽': 15.0, '오른쪽': 15.0}\n"
          ]
        }
      ]
    },
    {
      "cell_type": "markdown",
      "source": [
        "3번. 왼쪽 스캔 함수 https://claude.ai/public/artifacts/0bd88961-bc8c-43b4-b40b-aa0a27fe96df"
      ],
      "metadata": {
        "id": "BTd8vDODirMy"
      }
    },
    {
      "cell_type": "code",
      "source": [
        "def scan_left(x, y, obstacles, sensors):\n",
        "    print(\"3-4 왼쪽 스캔 시작\")\n",
        "\n",
        "    if (x-1, y) in obstacles:\n",
        "        sensors[\"왼쪽\"] = 1.0\n",
        "        print(\"3-7 왼쪽 1칸 장애물 발견\")\n",
        "\n",
        "    elif (x-2, y) in obstacles:\n",
        "        sensors[\"왼쪽\"] = 2.0\n",
        "        print(\"3-10 왼쪽 2칸 장애물 발견\")\n",
        "\n",
        "    elif (x-3, y) in obstacles:\n",
        "        sensors[\"왼쪽\"] = 3.0\n",
        "        print(\"3-13 왼쪽 3칸 장애물 발견\")\n",
        "\n",
        "    else:\n",
        "        sensors[\"왼쪽\"] = 15.0\n",
        "        print(\"3-15 왼쪽 장애물 없음 - 센서값 15.0 유지\")\n",
        "\n",
        "    print(\"4-4 왼쪽 스캔 완료\")\n",
        "\n",
        "x = 5\n",
        "y = 5\n",
        "obstacles = [\n",
        "    (4, 5),\n",
        "    (2, 5),\n",
        "]\n",
        "\n",
        "sensors = {\n",
        "    \"앞\": 15.0,\n",
        "    \"왼쪽\": 15.0,\n",
        "    \"오른쪽\": 15.0\n",
        "}\n",
        "\n",
        "scan_left(x, y, obstacles, sensors)\n",
        "\n",
        "print(\"📡 왼쪽 스캔 후 센서값:\", sensors)"
      ],
      "metadata": {
        "id": "04iLu0ECqs0p",
        "colab": {
          "base_uri": "https://localhost:8080/"
        },
        "outputId": "283da840-1867-4f92-d619-4c032eb8ad57"
      },
      "execution_count": 22,
      "outputs": [
        {
          "output_type": "stream",
          "name": "stdout",
          "text": [
            "3-4 왼쪽 스캔 시작\n",
            "3-7 왼쪽 1칸 장애물 발견\n",
            "4-4 왼쪽 스캔 완료\n",
            "📡 왼쪽 스캔 후 센서값: {'앞': 15.0, '왼쪽': 1.0, '오른쪽': 15.0}\n"
          ]
        }
      ]
    },
    {
      "cell_type": "markdown",
      "source": [
        "4번 오른쪽"
      ],
      "metadata": {
        "id": "AqOO6pDBqp5g"
      }
    },
    {
      "cell_type": "code",
      "source": [
        "def scan_right(x, y, obstacles, sensors):\n",
        "    print(\"4-4 오른쪽 스캔 시작\")\n",
        "\n",
        "    if (x+1, y) in obstacles:\n",
        "        print(\"4-7 오른쪽 1칸 장애물 발견\")\n",
        "        sensors[\"오른쪽\"] = 1.0\n",
        "\n",
        "    elif (x+2, y) in obstacles:\n",
        "        print(\"4-10 오른쪽 2칸 장애물 발견\")\n",
        "        sensors[\"오른쪽\"] = 2.0\n",
        "\n",
        "    elif (x+3, y) in obstacles:\n",
        "        print(\"4-13 오른쪽 3칸 장애물 발견\")\n",
        "        sensors[\"오른쪽\"] = 3.0\n",
        "\n",
        "    else:\n",
        "        print(\"4-15 오른쪽 장애물 없음 → 센서값 유지\")\n",
        "        sensors[\"오른쪽\"] = 15.0\n",
        "\n",
        "    print(\"4-16 오른쪽 스캔 종료\\n\")\n",
        "\n",
        "x = 5\n",
        "y = 5\n",
        "obstacles = [\n",
        "    (6, 5),\n",
        "    (8, 5),\n",
        "]\n",
        "\n",
        "sensors = {\n",
        "    \"앞\": 15.0,\n",
        "    \"왼쪽\": 15.0,\n",
        "    \"오른쪽\": 15.0\n",
        "}\n",
        "\n",
        "scan_right(x, y, obstacles, sensors)\n",
        "\n",
        "print(\"📡 오른쪽 스캔 후 센서값:\", sensors)\n"
      ],
      "metadata": {
        "colab": {
          "base_uri": "https://localhost:8080/"
        },
        "id": "IThIW1ljxQVi",
        "outputId": "294dc934-0454-48b8-b1f1-de7b90c7b484"
      },
      "execution_count": 23,
      "outputs": [
        {
          "output_type": "stream",
          "name": "stdout",
          "text": [
            "4-4 오른쪽 스캔 시작\n",
            "4-7 오른쪽 1칸 장애물 발견\n",
            "4-16 오른쪽 스캔 종료\n",
            "\n",
            "📡 오른쪽 스캔 후 센서값: {'앞': 15.0, '왼쪽': 15.0, '오른쪽': 1.0}\n"
          ]
        }
      ]
    },
    {
      "cell_type": "markdown",
      "source": [
        "5번  센서 데이터 업데이트 함수 (디버그 print 포함) flowchart https://claude.ai/public/artifacts/0071fea5-0417-4ac3-b753-5e47ea108c2a"
      ],
      "metadata": {
        "id": "_zl7A6V-ozrP"
      }
    },
    {
      "cell_type": "code",
      "source": [
        "def update_sensor_data(position, obstacles):\n",
        "    print(\"🟢 5-4 함수 시작\")\n",
        "\n",
        "    x = position[\"x\"]\n",
        "    y = position[\"y\"]\n",
        "    print(\"📌 5-6 위치 추출 완료\")\n",
        "    print(f\" 5-7 현재 위치: x={x}, y={y}\")\n",
        "\n",
        "    sensors = init_sensors()\n",
        "    print(\" 센서 초기화 완료 → 모든 값 15.0\")\n",
        "\n",
        "\n",
        "    print(\"앞쪽 스캔 시작\")\n",
        "    scan_front(x, y, obstacles, sensors)\n",
        "\n",
        "    print(\"왼쪽 스캔 시작\")\n",
        "    scan_left(x, y, obstacles, sensors)\n",
        "\n",
        "    print(\" 오른쪽 스캔 시작\")\n",
        "    scan_right(x, y, obstacles, sensors)\n",
        "\n",
        "\n",
        "    print(\" 5-17 센서 업데이트 완료\")\n",
        "    print(\" 최종 센서값:\", sensors)\n",
        "\n",
        "    return sensors\n",
        "\n",
        "def init_sensors():\n",
        "    return {\n",
        "        \"앞\": 15.0,\n",
        "        \"왼쪽\": 15.0,\n",
        "        \"오른쪽\": 15.0\n",
        "    }\n",
        "\n",
        "position = {\"x\": 5, \"y\": 5}\n",
        "obstacles = [\n",
        "    (5, 6),\n",
        "    (2, 5),\n",
        "    (8, 5)\n",
        "]\n",
        "\n",
        "\n",
        "sensor_data = update_sensor_data(position, obstacles)\n",
        "print(\"업데이트된 센서 데이터:\", sensor_data)\n"
      ],
      "metadata": {
        "id": "0aLJASuOitmL",
        "colab": {
          "base_uri": "https://localhost:8080/"
        },
        "outputId": "1b0b7f41-8121-4228-b8da-4e39fa06f5e0"
      },
      "execution_count": 28,
      "outputs": [
        {
          "output_type": "stream",
          "name": "stdout",
          "text": [
            "🟢 5-4 함수 시작\n",
            "📌 5-6 위치 추출 완료\n",
            " 5-7 현재 위치: x=5, y=5\n",
            " 센서 초기화 완료 → 모든 값 15.0\n",
            "앞쪽 스캔 시작\n",
            "2-04 앞쪽 스캔 시작\n",
            "2-06 앞쪽 1칸 장애물 발견\n",
            "2-16 앞쪽 스캔 종료\n",
            "왼쪽 스캔 시작\n",
            "3-4 왼쪽 스캔 시작\n",
            "3-13 왼쪽 3칸 장애물 발견\n",
            "4-4 왼쪽 스캔 완료\n",
            " 오른쪽 스캔 시작\n",
            "4-4 오른쪽 스캔 시작\n",
            "4-13 오른쪽 3칸 장애물 발견\n",
            "4-16 오른쪽 스캔 종료\n",
            "\n",
            " 5-17 센서 업데이트 완료\n",
            " 최종 센서값: {'앞': 1.0, '왼쪽': 3.0, '오른쪽': 3.0}\n",
            "업데이트된 센서 데이터: {'앞': 1.0, '왼쪽': 3.0, '오른쪽': 3.0}\n"
          ]
        }
      ]
    },
    {
      "cell_type": "markdown",
      "source": [
        "6번 https://claude.ai/public/artifacts/27051f81-4a36-4075-8d2b-ec7199d9a7fb"
      ],
      "metadata": {
        "id": "iH0GQNzAx-G4"
      }
    },
    {
      "cell_type": "code",
      "source": [
        "def detect_obstacles(sensors, safe_distance):\n",
        "    print(\"6-4 함수 시작\")\n",
        "    print(\"6-5 입력 데이터\")\n",
        "    print(\"sensors와 safe_distance 출력\")\n",
        "    print(\"센서값:\", sensors)\n",
        "    print(\"안전 거리:\", safe_distance)\n",
        "\n",
        "\n",
        "    obstacles = []\n",
        "\n",
        "\n",
        "    for direction, distance in sensors.items():\n",
        "        print(\"6-9 현재 방향과 거리 체크\")\n",
        "        print(\"방향:\", direction, \"거리:\", distance)\n",
        "\n",
        "        if distance < safe_distance:\n",
        "\n",
        "            obstacles.append(direction)\n",
        "            print(\"6-12 위험! 목록에 추가\")\n",
        "        else:\n",
        "\n",
        "            print(\"6-14 안전\")\n",
        "\n",
        "    print(\"6-16 장애물 감지 완료\")\n",
        "    print(\"최종 obstacles 리스트 출력:\", obstacles)\n",
        "\n",
        "    return obstacles\n",
        "\n",
        "sensors = {\n",
        "    \"앞\": 3.0,\n",
        "    \"왼쪽\": 15.0,\n",
        "    \"오른쪽\": 8.5\n",
        "}\n",
        "safe_distance = 10.0\n",
        "\n",
        "\n",
        "obstacle_list = detect_obstacles(sensors, safe_distance)\n",
        "print(\"감지된 장애물 방향들:\", obstacle_list)\n"
      ],
      "metadata": {
        "colab": {
          "base_uri": "https://localhost:8080/"
        },
        "id": "Kj9eUkXgyC4g",
        "outputId": "90243091-b6f5-40d2-cf0d-9b8baedb35e1"
      },
      "execution_count": 27,
      "outputs": [
        {
          "output_type": "stream",
          "name": "stdout",
          "text": [
            "6-4 함수 시작\n",
            "6-5 입력 데이터\n",
            "sensors와 safe_distance 출력\n",
            "센서값: {'앞': 3.0, '왼쪽': 15.0, '오른쪽': 8.5}\n",
            "안전 거리: 10.0\n",
            "6-9 현재 방향과 거리 체크\n",
            "방향: 앞 거리: 3.0\n",
            "6-12 위험! 목록에 추가\n",
            "6-9 현재 방향과 거리 체크\n",
            "방향: 왼쪽 거리: 15.0\n",
            "6-14 안전\n",
            "6-9 현재 방향과 거리 체크\n",
            "방향: 오른쪽 거리: 8.5\n",
            "6-12 위험! 목록에 추가\n",
            "6-16 장애물 감지 완료\n",
            "최종 obstacles 리스트 출력: ['앞', '오른쪽']\n",
            "감지된 장애물 방향들: ['앞', '오른쪽']\n"
          ]
        }
      ]
    },
    {
      "cell_type": "markdown",
      "source": [
        "7번  https://claude.ai/public/artifacts/13112488-2160-4216-8845-4187a58f746c"
      ],
      "metadata": {
        "id": "k7VtgjS12nvn"
      }
    },
    {
      "cell_type": "code",
      "source": [
        "def decide_action(obstacles):\n",
        "    print(\"🔍 7-4 장애물 정보 입력받음:\", obstacles)\n",
        "\n",
        "\n",
        "    if len(obstacles) == 0:\n",
        "        print(\"✅ 7-6 장애물 없음 → 직진\")\n",
        "        action = \"직진\"\n",
        "\n",
        "\n",
        "    elif \"앞\" in obstacles:\n",
        "        print(\"⚠️ 7-8 앞에 장애물 있음 → 경로 우회 필요\")\n",
        "\n",
        "\n",
        "        if \"왼쪽\" not in obstacles:\n",
        "            print(\"✅ 7-10 왼쪽 안전 → 좌회전\")\n",
        "            action = \"좌회전\"\n",
        "\n",
        "\n",
        "        elif \"오른쪽\" not in obstacles:\n",
        "            print(\"✅ 7-13 오른쪽 안전 → 우회전\")\n",
        "            action = \"우회전\"\n",
        "\n",
        "\n",
        "        else:\n",
        "            print(\"⚠️ 7-15 모든 방향에 장애물 → 일단 직진 시도\")\n",
        "            action = \"직진\"\n",
        "\n",
        "\n",
        "    else:\n",
        "        print(\"✅ 7-17 앞은 안전 → 조심해서 직진\")\n",
        "        action = \"주의해서 직진\"\n",
        "\n",
        "    print(\"✅ 7-19 최종 결정:\", action)\n",
        "    return action\n",
        "\n",
        "def test_decide_action():\n",
        "    print(\"🧪 [TEST] decide_action 함수 테스트 시작\\n\")\n",
        "\n",
        "    test_cases = [\n",
        "        ([], \"직진\"),\n",
        "        ([\"앞\"], \"좌회전\"),\n",
        "        ([\"앞\", \"왼쪽\"], \"우회전\"),\n",
        "        ([\"앞\", \"오른쪽\"], \"좌회전\"),\n",
        "        ([\"앞\", \"왼쪽\", \"오른쪽\"], \"직진\"),\n",
        "        ([\"왼쪽\"], \"주의해서 직진\"),\n",
        "        ([\"오른쪽\"], \"주의해서 직진\"),\n",
        "        ([\"왼쪽\", \"오른쪽\"], \"주의해서 직진\"),\n",
        "    ]\n",
        "\n",
        "    for i, (input_obstacles, expected_action) in enumerate(test_cases):\n",
        "        print(f\"\\n--- 테스트 케이스 {i+1} ---\")\n",
        "        result = decide_action(input_obstacles)\n",
        "        print(f\"✅ 예상: {expected_action}, 결과: {result}\")\n",
        "        assert result == expected_action, f\"❌ 실패: expected {expected_action} but got {result}\"\n",
        "\n",
        "    print(\"\\n🎉 모든 테스트 통과!\")\n",
        "test_decide_action()"
      ],
      "metadata": {
        "colab": {
          "base_uri": "https://localhost:8080/"
        },
        "id": "y1NkMyMR2pf-",
        "outputId": "78b60c5f-8b8f-4e4a-da0a-e4c6f86e0b0c"
      },
      "execution_count": 33,
      "outputs": [
        {
          "output_type": "stream",
          "name": "stdout",
          "text": [
            "🧪 [TEST] decide_action 함수 테스트 시작\n",
            "\n",
            "\n",
            "--- 테스트 케이스 1 ---\n",
            "🔍 7-4 장애물 정보 입력받음: []\n",
            "✅ 7-6 장애물 없음 → 직진\n",
            "✅ 7-19 최종 결정: 직진\n",
            "✅ 예상: 직진, 결과: 직진\n",
            "\n",
            "--- 테스트 케이스 2 ---\n",
            "🔍 7-4 장애물 정보 입력받음: ['앞']\n",
            "⚠️ 7-8 앞에 장애물 있음 → 경로 우회 필요\n",
            "✅ 7-10 왼쪽 안전 → 좌회전\n",
            "✅ 7-19 최종 결정: 좌회전\n",
            "✅ 예상: 좌회전, 결과: 좌회전\n",
            "\n",
            "--- 테스트 케이스 3 ---\n",
            "🔍 7-4 장애물 정보 입력받음: ['앞', '왼쪽']\n",
            "⚠️ 7-8 앞에 장애물 있음 → 경로 우회 필요\n",
            "✅ 7-13 오른쪽 안전 → 우회전\n",
            "✅ 7-19 최종 결정: 우회전\n",
            "✅ 예상: 우회전, 결과: 우회전\n",
            "\n",
            "--- 테스트 케이스 4 ---\n",
            "🔍 7-4 장애물 정보 입력받음: ['앞', '오른쪽']\n",
            "⚠️ 7-8 앞에 장애물 있음 → 경로 우회 필요\n",
            "✅ 7-10 왼쪽 안전 → 좌회전\n",
            "✅ 7-19 최종 결정: 좌회전\n",
            "✅ 예상: 좌회전, 결과: 좌회전\n",
            "\n",
            "--- 테스트 케이스 5 ---\n",
            "🔍 7-4 장애물 정보 입력받음: ['앞', '왼쪽', '오른쪽']\n",
            "⚠️ 7-8 앞에 장애물 있음 → 경로 우회 필요\n",
            "⚠️ 7-15 모든 방향에 장애물 → 일단 직진 시도\n",
            "✅ 7-19 최종 결정: 직진\n",
            "✅ 예상: 직진, 결과: 직진\n",
            "\n",
            "--- 테스트 케이스 6 ---\n",
            "🔍 7-4 장애물 정보 입력받음: ['왼쪽']\n",
            "✅ 7-17 앞은 안전 → 조심해서 직진\n",
            "✅ 7-19 최종 결정: 주의해서 직진\n",
            "✅ 예상: 주의해서 직진, 결과: 주의해서 직진\n",
            "\n",
            "--- 테스트 케이스 7 ---\n",
            "🔍 7-4 장애물 정보 입력받음: ['오른쪽']\n",
            "✅ 7-17 앞은 안전 → 조심해서 직진\n",
            "✅ 7-19 최종 결정: 주의해서 직진\n",
            "✅ 예상: 주의해서 직진, 결과: 주의해서 직진\n",
            "\n",
            "--- 테스트 케이스 8 ---\n",
            "🔍 7-4 장애물 정보 입력받음: ['왼쪽', '오른쪽']\n",
            "✅ 7-17 앞은 안전 → 조심해서 직진\n",
            "✅ 7-19 최종 결정: 주의해서 직진\n",
            "✅ 예상: 주의해서 직진, 결과: 주의해서 직진\n",
            "\n",
            "🎉 모든 테스트 통과!\n"
          ]
        }
      ]
    },
    {
      "cell_type": "markdown",
      "source": [
        "8번 https://claude.ai/public/artifacts/6ddac9ec-2dba-456b-bb09-bf6e277a8a06"
      ],
      "metadata": {
        "id": "RMfE8x5h26Qg"
      }
    },
    {
      "cell_type": "code",
      "source": [],
      "metadata": {
        "id": "9OzNz4Hb24PX"
      },
      "execution_count": null,
      "outputs": []
    }
  ]
}