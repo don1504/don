{
  "nbformat": 4,
  "nbformat_minor": 0,
  "metadata": {
    "colab": {
      "provenance": [],
      "authorship_tag": "ABX9TyM77E9QrtKKayow4Ah4eHyN",
      "include_colab_link": true
    },
    "kernelspec": {
      "name": "python3",
      "display_name": "Python 3"
    },
    "language_info": {
      "name": "python"
    }
  },
  "cells": [
    {
      "cell_type": "markdown",
      "metadata": {
        "id": "view-in-github",
        "colab_type": "text"
      },
      "source": [
        "<a href=\"https://colab.research.google.com/github/don1504/don/blob/main/0701_python_%EC%9E%90%EB%8F%99%EC%B0%A8_%EC%88%98%EC%97%85.ipynb\" target=\"_parent\"><img src=\"https://colab.research.google.com/assets/colab-badge.svg\" alt=\"Open In Colab\"/></a>"
      ]
    },
    {
      "cell_type": "markdown",
      "source": [
        "1번 flowchart https://claude.ai/public/artifacts/ecfa16b4-2106-4e7b-a637-a17f20eb3126"
      ],
      "metadata": {
        "id": "iHYFlQnNilAY"
      }
    },
    {
      "cell_type": "code",
      "execution_count": 1,
      "metadata": {
        "colab": {
          "base_uri": "https://localhost:8080/"
        },
        "id": "eXFsZdTZXH7-",
        "outputId": "05ea2ac3-9d2b-4108-c04f-fab3e6778db3"
      },
      "outputs": [
        {
          "output_type": "stream",
          "name": "stdout",
          "text": [
            "센서 초기값: {'앞': 15.0, '왼쪽': 15.0, '오른쪽': 15.0}\n"
          ]
        }
      ],
      "source": [
        "def init_sensors():\n",
        "\n",
        "    sensors = {\n",
        "        \"앞\": 15.0,\n",
        "        \"왼쪽\": 15.0,\n",
        "        \"오른쪽\": 15.0\n",
        "    }\n",
        "\n",
        "    print(\"센서 초기값:\", sensors)\n",
        "\n",
        "    return sensors\n",
        "\n",
        "s = init_sensors()\n"
      ]
    },
    {
      "cell_type": "markdown",
      "source": [
        "2번 flowchart https://claude.ai/public/artifacts/2bacfb57-fa54-46bf-bd52-f4d858b045a4"
      ],
      "metadata": {
        "id": "izEVI1mpipQm"
      }
    },
    {
      "cell_type": "code",
      "source": [
        "def scan_front(x, y, obstacles, sensors):\n",
        "    print(\"2-04 앞쪽 스캔 시작\")\n",
        "\n",
        "    if (x, y+1) in obstacles:\n",
        "        print(\"2-06 앞쪽 1칸 장애물 발견\")\n",
        "        sensors[\"앞\"] = 1.0\n",
        "\n",
        "    elif (x, y+2) in obstacles:\n",
        "        print(\"2-10 앞쪽 2칸 장애물 발견\")\n",
        "        sensors[\"앞\"] = 2.0\n",
        "\n",
        "    elif (x, y+3) in obstacles:\n",
        "        print(\"2-13 앞쪽 3칸 장애물 발견\")\n",
        "        sensors[\"앞\"] = 3.0\n",
        "\n",
        "    else:\n",
        "        print(\"2-15 앞쪽 장애물 없음 → 센서값 유지\")\n",
        "        sensors[\"앞\"] = 15.0\n",
        "\n",
        "    print(\"2-16 앞쪽 스캔 종료\")\n"
      ],
      "metadata": {
        "id": "qciaPsJuaNgl"
      },
      "execution_count": 2,
      "outputs": []
    },
    {
      "cell_type": "markdown",
      "source": [
        "3번. 왼쪽 스캔 함수 https://claude.ai/public/artifacts/0bd88961-bc8c-43b4-b40b-aa0a27fe96df"
      ],
      "metadata": {
        "id": "BTd8vDODirMy"
      }
    },
    {
      "cell_type": "code",
      "source": [
        "def scan_left(x, y, obstacles, sensors):\n",
        "    print(\"3-4 왼쪽 스캔 시작\")\n",
        "\n",
        "    if (x-1, y) in obstacles:\n",
        "        sensors[\"왼쪽\"] = 1.0\n",
        "        print(\"3-7 왼쪽 1칸 장애물 발견\")\n",
        "\n",
        "    elif (x-2, y) in obstacles:\n",
        "        sensors[\"왼쪽\"] = 2.0\n",
        "        print(\"3-10 왼쪽 2칸 장애물 발견\")\n",
        "\n",
        "    elif (x-3, y) in obstacles:\n",
        "        sensors[\"왼쪽\"] = 3.0\n",
        "        print(\"3-13 왼쪽 3칸 장애물 발견\")\n",
        "\n",
        "    else:\n",
        "        sensors[\"왼쪽\"] = 15.0\n",
        "        print(\"3-15 왼쪽 장애물 없음 - 센서값 15.0 유지\")\n",
        "\n",
        "    print(\"4-4 왼쪽 스캔 완료\")\n"
      ],
      "metadata": {
        "id": "04iLu0ECqs0p"
      },
      "execution_count": 6,
      "outputs": []
    },
    {
      "cell_type": "markdown",
      "source": [
        "4번 오른쪽"
      ],
      "metadata": {
        "id": "AqOO6pDBqp5g"
      }
    },
    {
      "cell_type": "markdown",
      "source": [
        "5번  센서 데이터 업데이트 함수 (디버그 print 포함) flowchart https://claude.ai/public/artifacts/0071fea5-0417-4ac3-b753-5e47ea108c2a"
      ],
      "metadata": {
        "id": "_zl7A6V-ozrP"
      }
    },
    {
      "cell_type": "code",
      "source": [
        "def update_sensor_data(position, obstacles):\n",
        "    print(\"5-4 함수 시작\")\n",
        "\n",
        "    x = position[\"x\"]\n",
        "    y = position[\"y\"]\n",
        "    print(\"5-6 위치 추출 완료\")\n",
        "    print(\"5-7 현재 x, y값:\", x, y)\n",
        "\n",
        "    sensors = init_sensors()\n",
        "    print(\"센서 초기화 완료 → 모든 값 15.0\")\n",
        "\n",
        "    scan_front(x, y, obstacles, sensors)\n",
        "\n",
        "    scan_left(x, y, obstacles, sensors)\n",
        "\n",
        "    scan_right(x, y, obstacles, sensors)\n",
        "\n",
        "    print(\"5-17 센서 업데이트 완료\")\n",
        "    print(\"최종 센서값:\", sensors)\n",
        "\n",
        "    return sensors\n"
      ],
      "metadata": {
        "id": "0aLJASuOitmL"
      },
      "execution_count": 8,
      "outputs": []
    }
  ]
}