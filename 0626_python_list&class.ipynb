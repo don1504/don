{
  "nbformat": 4,
  "nbformat_minor": 0,
  "metadata": {
    "colab": {
      "provenance": [],
      "mount_file_id": "17UsIzam3RE6CYDQB4DzQ8ucK7-DKmJ6M",
      "authorship_tag": "ABX9TyPfR7MX81N7pLF9RWseKIxB",
      "include_colab_link": true
    },
    "kernelspec": {
      "name": "python3",
      "display_name": "Python 3"
    },
    "language_info": {
      "name": "python"
    }
  },
  "cells": [
    {
      "cell_type": "markdown",
      "metadata": {
        "id": "view-in-github",
        "colab_type": "text"
      },
      "source": [
        "<a href=\"https://colab.research.google.com/github/don1504/don/blob/main/0626_python_list%26class.ipynb\" target=\"_parent\"><img src=\"https://colab.research.google.com/assets/colab-badge.svg\" alt=\"Open In Colab\"/></a>"
      ]
    },
    {
      "cell_type": "markdown",
      "source": [
        "리스트 생성하기\n"
      ],
      "metadata": {
        "id": "JXY1x6OpCezA"
      }
    },
    {
      "cell_type": "code",
      "source": [
        "list = [\"apple\", \"banana\", \"cherry\"]"
      ],
      "metadata": {
        "id": "IyWCnrXbCgtb"
      },
      "execution_count": 6,
      "outputs": []
    },
    {
      "cell_type": "markdown",
      "source": [
        "리스트 출력"
      ],
      "metadata": {
        "id": "bOyD6mx-Cjwm"
      }
    },
    {
      "cell_type": "code",
      "source": [
        "thislist = [\"apple\", \"banana\", \"cherry\"]\n",
        "print(thislist)"
      ],
      "metadata": {
        "colab": {
          "base_uri": "https://localhost:8080/"
        },
        "id": "lPVcNLElCk15",
        "outputId": "cfcac5bd-a4c7-4cd2-9dbb-b590bd2a5df4"
      },
      "execution_count": 7,
      "outputs": [
        {
          "output_type": "stream",
          "name": "stdout",
          "text": [
            "['apple', 'banana', 'cherry']\n"
          ]
        }
      ]
    },
    {
      "cell_type": "markdown",
      "source": [
        "속도 기록 리스트로 평균 속도 계산"
      ],
      "metadata": {
        "id": "9ws-grn94KXH"
      }
    },
    {
      "cell_type": "code",
      "source": [
        "speeds = [35, 37, 36, 34, 38]  # 단위: km/h\n",
        "average_speed = sum(speeds) / len(speeds)\n",
        "print(\"평균 속도:\", average_speed, \"km/h\")\n"
      ],
      "metadata": {
        "colab": {
          "base_uri": "https://localhost:8080/"
        },
        "id": "yZbP7bwZ4Kmw",
        "outputId": "3b19bace-1fc8-4542-bda8-e278a81eca1c"
      },
      "execution_count": 5,
      "outputs": [
        {
          "output_type": "stream",
          "name": "stdout",
          "text": [
            "평균 속도: 36.0 km/h\n"
          ]
        }
      ]
    },
    {
      "cell_type": "markdown",
      "source": [
        "센서 거리 값 저장 및 확인\n"
      ],
      "metadata": {
        "id": "ACEVXDBt3xBe"
      }
    },
    {
      "cell_type": "code",
      "execution_count": 1,
      "metadata": {
        "colab": {
          "base_uri": "https://localhost:8080/"
        },
        "id": "2RSoYlps3s4-",
        "outputId": "92d580b1-4c5a-4109-dcf2-45afff098e9c"
      },
      "outputs": [
        {
          "output_type": "stream",
          "name": "stdout",
          "text": [
            "장애물 경고: 거리 = 1.8 m\n"
          ]
        }
      ],
      "source": [
        "lidar_distances = [2.1, 3.5, 1.8, 4.2]  # LiDAR 센서 거리 값 (단위: m)\n",
        "\n",
        "for d in lidar_distances:\n",
        "    if d < 2.0:\n",
        "        print(\"장애물 경고: 거리 =\", d, \"m\")\n"
      ]
    },
    {
      "cell_type": "markdown",
      "source": [
        "경로점(waypoints) 리스트 처리"
      ],
      "metadata": {
        "id": "FPAC6OxV3-t_"
      }
    },
    {
      "cell_type": "code",
      "source": [
        "waypoints = [(0, 0), (1, 2), (3, 4), (5, 6)]  # x, y 좌표\n",
        "\n",
        "for x, y in waypoints:\n",
        "    print(f\"다음 이동 위치: x={x}, y={y}\")\n"
      ],
      "metadata": {
        "colab": {
          "base_uri": "https://localhost:8080/"
        },
        "id": "J-qUVTpz3_sb",
        "outputId": "0d5e1af8-7a4e-42b7-d740-cf4804d976e4"
      },
      "execution_count": 2,
      "outputs": [
        {
          "output_type": "stream",
          "name": "stdout",
          "text": [
            "다음 이동 위치: x=0, y=0\n",
            "다음 이동 위치: x=1, y=2\n",
            "다음 이동 위치: x=3, y=4\n",
            "다음 이동 위치: x=5, y=6\n"
          ]
        }
      ]
    },
    {
      "cell_type": "markdown",
      "source": [
        "탐지된 객체 리스트 관리"
      ],
      "metadata": {
        "id": "rgnddF2v4A2y"
      }
    },
    {
      "cell_type": "code",
      "source": [
        "detected_objects = [\"car\", \"pedestrian\", \"traffic_light\"]\n",
        "\n",
        "if \"pedestrian\" in detected_objects:\n",
        "    print(\"보행자 감지됨! 감속 필요.\")\n"
      ],
      "metadata": {
        "colab": {
          "base_uri": "https://localhost:8080/"
        },
        "id": "4_JhhGzj4Cva",
        "outputId": "977c7420-9b36-4b37-e4d7-ef88cf8f4acc"
      },
      "execution_count": 3,
      "outputs": [
        {
          "output_type": "stream",
          "name": "stdout",
          "text": [
            "보행자 감지됨! 감속 필요.\n"
          ]
        }
      ]
    },
    {
      "cell_type": "markdown",
      "source": [
        "카메라 이미지 버퍼 저장"
      ],
      "metadata": {
        "id": "m_5U5uJ44D45"
      }
    },
    {
      "cell_type": "code",
      "source": [
        "image_buffer = []\n",
        "\n",
        "for i in range(5):\n",
        "    image_buffer.append(f\"frame_{i}.jpg\")\n",
        "\n",
        "print(\"저장된 이미지:\", image_buffer)\n"
      ],
      "metadata": {
        "colab": {
          "base_uri": "https://localhost:8080/"
        },
        "id": "eWDqKQtB4E-A",
        "outputId": "91e93b75-8c06-48e7-a986-07301b3010e0"
      },
      "execution_count": 4,
      "outputs": [
        {
          "output_type": "stream",
          "name": "stdout",
          "text": [
            "저장된 이미지: ['frame_0.jpg', 'frame_1.jpg', 'frame_2.jpg', 'frame_3.jpg', 'frame_4.jpg']\n"
          ]
        }
      ]
    },
    {
      "cell_type": "markdown",
      "source": [
        "장애물 정보 리스트 활용"
      ],
      "metadata": {
        "id": "rnQQUHjBCZiQ"
      }
    },
    {
      "cell_type": "code",
      "source": [
        "obstacles = [\n",
        "    [127.387, 36.352],\n",
        "    [127.383, 36.350]\n",
        "]\n",
        "print(\"장애물 위치:\", obstacles)"
      ],
      "metadata": {
        "id": "CbVLehK-CbHJ"
      },
      "execution_count": null,
      "outputs": []
    }
  ]
}