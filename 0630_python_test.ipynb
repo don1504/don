{
  "nbformat": 4,
  "nbformat_minor": 0,
  "metadata": {
    "colab": {
      "provenance": [],
      "authorship_tag": "ABX9TyNJvtisHTJ+c74/EWGuVxLW",
      "include_colab_link": true
    },
    "kernelspec": {
      "name": "python3",
      "display_name": "Python 3"
    },
    "language_info": {
      "name": "python"
    }
  },
  "cells": [
    {
      "cell_type": "markdown",
      "metadata": {
        "id": "view-in-github",
        "colab_type": "text"
      },
      "source": [
        "<a href=\"https://colab.research.google.com/github/don1504/don/blob/main/0630_python_test.ipynb\" target=\"_parent\"><img src=\"https://colab.research.google.com/assets/colab-badge.svg\" alt=\"Open In Colab\"/></a>"
      ]
    },
    {
      "cell_type": "code",
      "execution_count": 2,
      "metadata": {
        "colab": {
          "base_uri": "https://localhost:8080/"
        },
        "id": "RI3mJhR1SrNT",
        "outputId": "60d582d6-c924-4cf5-e94f-749a8d889cb8"
      },
      "outputs": [
        {
          "output_type": "stream",
          "name": "stdout",
          "text": [
            "감지된 장애물 방향: ['front', 'right']\n"
          ]
        }
      ],
      "source": [
        "sensor_data = {\n",
        "    \"front\": 8.0,\n",
        "    \"back\": 16.0,\n",
        "    \"left\": 15.0,\n",
        "    \"right\": 4.0\n",
        "}\n",
        "safe_distance = 10.0\n",
        "obstacles = []\n",
        "for direction, distance in sensor_data.items():\n",
        "    if distance < safe_distance:\n",
        "        obstacles.append(direction)\n",
        "\n",
        "print(\"감지된 장애물 방향:\", obstacles)\n"
      ]
    },
    {
      "cell_type": "code",
      "source": [
        "front = 5.0\n",
        "left = 7.0\n",
        "right = 12.0\n",
        "back = 20.0\n",
        "\n",
        "safe = 10.0\n",
        "\n",
        "if front < safe:\n",
        "    front_block = True\n",
        "else:\n",
        "    front_block = False\n",
        "\n",
        "if left < safe:\n",
        "    left_block = True\n",
        "else:\n",
        "    left_block = False\n",
        "\n",
        "if right < safe:\n",
        "    right_block = True\n",
        "else:\n",
        "    right_block = False\n",
        "\n",
        "if right_block == False:\n",
        "    print(\" 오른쪽이 비어있음 → 우회전\")\n",
        "elif left_block == False:\n",
        "    print(\"왼쪽이 비어있음 → 좌회전\")\n",
        "elif front_block == False:\n",
        "    print(\" 앞이 비어있음 → 조심히 직진\")\n",
        "else:\n",
        "    print(\" 갈 곳 없음 → 정지 또는 후진\")"
      ],
      "metadata": {
        "colab": {
          "base_uri": "https://localhost:8080/"
        },
        "id": "Sb1kaFiTUITF",
        "outputId": "e5f60fa9-b776-43fa-92b6-835003232318"
      },
      "execution_count": 3,
      "outputs": [
        {
          "output_type": "stream",
          "name": "stdout",
          "text": [
            " 오른쪽이 비어있음 → 우회전\n"
          ]
        }
      ]
    },
    {
      "cell_type": "code",
      "source": [
        "\n",
        "step = 0\n",
        "front = 0\n",
        "x = 0\n",
        "y = 0\n",
        "\n",
        "while step <= 5:\n",
        "    print(\" 환경 스캔 중...\")\n",
        "    obstacle = True\n",
        "    if obstacle == True:\n",
        "        front = 1\n",
        "    else:\n",
        "        front = 0\n",
        "\n",
        "\n",
        "    if front == 0:\n",
        "        print(\" 앞으로 이동\")\n",
        "        y = y + 1\n",
        "    else:\n",
        "        print(\" 우회전\")\n",
        "        x = x - 1\n",
        "    step = step + 1\n",
        "\n",
        "print(\" 시뮬레이션 종료\")\n",
        "print(\"최종 위치:\", x, y)\n"
      ],
      "metadata": {
        "colab": {
          "base_uri": "https://localhost:8080/"
        },
        "id": "U8LuN90nXS2F",
        "outputId": "24f4e269-8ee5-4cdb-d75f-9e46b590269f"
      },
      "execution_count": 4,
      "outputs": [
        {
          "output_type": "stream",
          "name": "stdout",
          "text": [
            " 환경 스캔 중...\n",
            " 우회전\n",
            " 환경 스캔 중...\n",
            " 우회전\n",
            " 환경 스캔 중...\n",
            " 우회전\n",
            " 환경 스캔 중...\n",
            " 우회전\n",
            " 환경 스캔 중...\n",
            " 우회전\n",
            " 환경 스캔 중...\n",
            " 우회전\n",
            " 시뮬레이션 종료\n",
            "최종 위치: -6 0\n"
          ]
        }
      ]
    }
  ]
}