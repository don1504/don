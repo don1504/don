{
  "nbformat": 4,
  "nbformat_minor": 0,
  "metadata": {
    "colab": {
      "provenance": [],
      "authorship_tag": "ABX9TyPOaluYsTRp/GOi25GYRDtE",
      "include_colab_link": true
    },
    "kernelspec": {
      "name": "python3",
      "display_name": "Python 3"
    },
    "language_info": {
      "name": "python"
    }
  },
  "cells": [
    {
      "cell_type": "markdown",
      "metadata": {
        "id": "view-in-github",
        "colab_type": "text"
      },
      "source": [
        "<a href=\"https://colab.research.google.com/github/don1504/don/blob/main/0702_python_numpy_.ipynb\" target=\"_parent\"><img src=\"https://colab.research.google.com/assets/colab-badge.svg\" alt=\"Open In Colab\"/></a>"
      ]
    },
    {
      "cell_type": "markdown",
      "source": [
        "배열 생성 및 기본 연산"
      ],
      "metadata": {
        "id": "ghjbSsDAAWgl"
      }
    },
    {
      "cell_type": "code",
      "execution_count": 1,
      "metadata": {
        "colab": {
          "base_uri": "https://localhost:8080/"
        },
        "id": "5Rls0Y5D__mj",
        "outputId": "21fe4a26-91eb-4604-b5d1-01b46e27c6e3"
      },
      "outputs": [
        {
          "output_type": "stream",
          "name": "stdout",
          "text": [
            "a + b = [5 7 9]\n",
            "a * b = [ 4 10 18]\n",
            "a의 평균 = 2.0\n"
          ]
        }
      ],
      "source": [
        "import numpy as np\n",
        "\n",
        "# 1D 배열 생성\n",
        "a = np.array([1, 2, 3])\n",
        "b = np.array([4, 5, 6])\n",
        "\n",
        "print(\"a + b =\", a + b)  # 요소별 덧셈\n",
        "print(\"a * b =\", a * b)  # 요소별 곱셈\n",
        "print(\"a의 평균 =\", np.mean(a))\n"
      ]
    },
    {
      "cell_type": "markdown",
      "source": [
        "2차원 배열 및 슬라이싱"
      ],
      "metadata": {
        "id": "7zpwSoo7AZox"
      }
    },
    {
      "cell_type": "code",
      "source": [
        "import numpy as np\n",
        "\n",
        "arr = np.array([[1, 2, 3], [4, 5, 6]])\n",
        "\n",
        "print(\"전체 배열:\\n\", arr)\n",
        "print(\"첫 번째 행:\", arr[0])\n",
        "print(\"두 번째 열:\", arr[:, 1])  # 모든 행의 두 번째 열만 출력\n"
      ],
      "metadata": {
        "colab": {
          "base_uri": "https://localhost:8080/"
        },
        "id": "BmKQveX6AaWv",
        "outputId": "5e57c76a-8c1a-4c32-d7ca-334ef7674c00"
      },
      "execution_count": 2,
      "outputs": [
        {
          "output_type": "stream",
          "name": "stdout",
          "text": [
            "전체 배열:\n",
            " [[1 2 3]\n",
            " [4 5 6]]\n",
            "첫 번째 행: [1 2 3]\n",
            "두 번째 열: [2 5]\n"
          ]
        }
      ]
    },
    {
      "cell_type": "markdown",
      "source": [
        "배열 생성 함수"
      ],
      "metadata": {
        "id": "v6ypTX5DAbKl"
      }
    },
    {
      "cell_type": "code",
      "source": [
        "import numpy as np\n",
        "\n",
        "a = np.arange(0, 10, 2)  # 0부터 10 전까지, 2 간격\n",
        "b = np.zeros((2, 3))     # 2x3 영행렬\n",
        "c = np.ones((3, 3))      # 3x3 1행렬\n",
        "\n",
        "print(\"arange:\", a)\n",
        "print(\"zeros:\\n\", b)\n",
        "print(\"ones:\\n\", c)\n"
      ],
      "metadata": {
        "colab": {
          "base_uri": "https://localhost:8080/"
        },
        "id": "taVTdUX5AdSs",
        "outputId": "a4abcdf9-c769-44f8-ff59-5553d61812d0"
      },
      "execution_count": 3,
      "outputs": [
        {
          "output_type": "stream",
          "name": "stdout",
          "text": [
            "arange: [0 2 4 6 8]\n",
            "zeros:\n",
            " [[0. 0. 0.]\n",
            " [0. 0. 0.]]\n",
            "ones:\n",
            " [[1. 1. 1.]\n",
            " [1. 1. 1.]\n",
            " [1. 1. 1.]]\n"
          ]
        }
      ]
    },
    {
      "cell_type": "markdown",
      "source": [
        "배열 형태 변경 및 전치"
      ],
      "metadata": {
        "id": "JndiISiOAeXQ"
      }
    },
    {
      "cell_type": "code",
      "source": [
        "import numpy as np\n",
        "\n",
        "arr = np.array([1, 2, 3, 4, 5, 6])\n",
        "reshaped = arr.reshape(2, 3)  # 2행 3열로 변환\n",
        "transposed = reshaped.T      # 전치 (행/열 바꾸기)\n",
        "\n",
        "print(\"Reshaped:\\n\", reshaped)\n",
        "print(\"Transposed:\\n\", transposed)\n"
      ],
      "metadata": {
        "colab": {
          "base_uri": "https://localhost:8080/"
        },
        "id": "z54BxJ3LAfQk",
        "outputId": "a0b16eb8-7296-45b2-b94a-7f47f4188b57"
      },
      "execution_count": 4,
      "outputs": [
        {
          "output_type": "stream",
          "name": "stdout",
          "text": [
            "Reshaped:\n",
            " [[1 2 3]\n",
            " [4 5 6]]\n",
            "Transposed:\n",
            " [[1 4]\n",
            " [2 5]\n",
            " [3 6]]\n"
          ]
        }
      ]
    },
    {
      "cell_type": "markdown",
      "source": [
        "조건 필터링"
      ],
      "metadata": {
        "id": "inVNFhYjAgI0"
      }
    },
    {
      "cell_type": "code",
      "source": [
        "import numpy as np\n",
        "\n",
        "data = np.array([5, 12, 7, 20, 3])\n",
        "filtered = data[data > 10]  # 10보다 큰 값만 추출\n",
        "\n",
        "print(\"원본:\", data)\n",
        "print(\"10보다 큰 값들:\", filtered)\n"
      ],
      "metadata": {
        "colab": {
          "base_uri": "https://localhost:8080/"
        },
        "id": "GPvde1GDAiPG",
        "outputId": "96a02a60-e14a-4453-da18-4f5abbf02bca"
      },
      "execution_count": 5,
      "outputs": [
        {
          "output_type": "stream",
          "name": "stdout",
          "text": [
            "원본: [ 5 12  7 20  3]\n",
            "10보다 큰 값들: [12 20]\n"
          ]
        }
      ]
    },
    {
      "cell_type": "markdown",
      "source": [
        "거리 계산"
      ],
      "metadata": {
        "id": "RnbHyqeEWyXh"
      }
    },
    {
      "cell_type": "code",
      "source": [
        "import numpy as np\n",
        "\n",
        "car_pos = np.array([3, 0])\n",
        "obstacle_pos = np.array([3, 3])\n",
        "\n",
        "distance = np.linalg.norm(car_pos - obstacle_pos)\n",
        "print(\"장애물까지 거리:\", distance)\n"
      ],
      "metadata": {
        "colab": {
          "base_uri": "https://localhost:8080/"
        },
        "id": "_AeR7jdPWyne",
        "outputId": "59d2797f-2b4e-4cb9-f55f-bdb19be19d14"
      },
      "execution_count": 6,
      "outputs": [
        {
          "output_type": "stream",
          "name": "stdout",
          "text": [
            "장애물까지 거리: 3.0\n"
          ]
        }
      ]
    },
    {
      "cell_type": "markdown",
      "source": [
        "다수 장애물 거리 계산 및 필터링"
      ],
      "metadata": {
        "id": "-93jYPxrWzgH"
      }
    },
    {
      "cell_type": "code",
      "source": [
        "import numpy as np\n",
        "\n",
        "car_pos = np.array([3, 0])\n",
        "obstacles = np.array([[3, 2], [2, 4], [5, 5], [3, 3]])\n",
        "\n",
        "distances = np.linalg.norm(obstacles - car_pos, axis=1)\n",
        "print(\"모든 장애물 거리:\", distances)\n",
        "\n",
        "nearby = obstacles[distances < 3.0]\n",
        "print(\"3미터 이내 장애물:\", nearby)\n"
      ],
      "metadata": {
        "colab": {
          "base_uri": "https://localhost:8080/"
        },
        "id": "Knf_jmwIW0NF",
        "outputId": "e13f9fb6-4ccd-4ea3-9c11-13c13d1dc1f5"
      },
      "execution_count": 7,
      "outputs": [
        {
          "output_type": "stream",
          "name": "stdout",
          "text": [
            "모든 장애물 거리: [2.         4.12310563 5.38516481 3.        ]\n",
            "3미터 이내 장애물: [[3 2]]\n"
          ]
        }
      ]
    },
    {
      "cell_type": "markdown",
      "source": [
        "경로 예측용 좌표 배열 만들기"
      ],
      "metadata": {
        "id": "OGw_zYV9W0-0"
      }
    },
    {
      "cell_type": "code",
      "source": [
        "import numpy as np\n",
        "\n",
        "# y축으로 5칸 이동 경로\n",
        "steps = np.arange(1, 6)\n",
        "path = np.column_stack((np.full(5, 3), steps))\n",
        "\n",
        "print(\"예상 경로 좌표:\\n\", path)\n"
      ],
      "metadata": {
        "colab": {
          "base_uri": "https://localhost:8080/"
        },
        "id": "WIR6mlXKW1yC",
        "outputId": "3a301411-7790-4ad2-88d7-46675697ee12"
      },
      "execution_count": 8,
      "outputs": [
        {
          "output_type": "stream",
          "name": "stdout",
          "text": [
            "예상 경로 좌표:\n",
            " [[3 1]\n",
            " [3 2]\n",
            " [3 3]\n",
            " [3 4]\n",
            " [3 5]]\n"
          ]
        }
      ]
    },
    {
      "cell_type": "markdown",
      "source": [
        "센서 데이터 시뮬레이션"
      ],
      "metadata": {
        "id": "gjzPw1cdW2m-"
      }
    },
    {
      "cell_type": "code",
      "source": [
        "import numpy as np\n",
        "\n",
        "true_distance = 2.5  # 실제 거리\n",
        "noise = np.random.normal(0, 0.1, 5)  # 평균 0, 표준편차 0.1인 노이즈 5개\n",
        "sensor_readings = true_distance + noise\n",
        "\n",
        "print(\"센서 감지값들:\", sensor_readings)\n"
      ],
      "metadata": {
        "colab": {
          "base_uri": "https://localhost:8080/"
        },
        "id": "wDB1-5AkW3fa",
        "outputId": "46104e59-a5e8-44a3-9453-44145e2e3fc6"
      },
      "execution_count": 9,
      "outputs": [
        {
          "output_type": "stream",
          "name": "stdout",
          "text": [
            "센서 감지값들: [2.53968407 2.49009662 2.36091611 2.66596048 2.46934134]\n"
          ]
        }
      ]
    },
    {
      "cell_type": "markdown",
      "source": [
        "맵 격자 (Grid Map) 생성 및 표시"
      ],
      "metadata": {
        "id": "ZsRB_e2TW4SL"
      }
    },
    {
      "cell_type": "code",
      "source": [
        "import numpy as np\n",
        "\n",
        "map_size = (6, 6)\n",
        "grid = np.zeros(map_size)\n",
        "\n",
        "# 자동차 위치\n",
        "grid[3, 0] = 1  # 1: 자동차\n",
        "\n",
        "# 장애물 표시\n",
        "obstacles = [(3, 2), (3, 3), (2, 4), (4, 5)]\n",
        "for x, y in obstacles:\n",
        "    grid[x, y] = -1  # -1: 장애물\n",
        "\n",
        "print(\"격자 맵:\\n\", grid)\n"
      ],
      "metadata": {
        "id": "g8YiXL6mW6SH",
        "outputId": "531ccf13-902b-449d-f92c-841239a61f56",
        "colab": {
          "base_uri": "https://localhost:8080/"
        }
      },
      "execution_count": 10,
      "outputs": [
        {
          "output_type": "stream",
          "name": "stdout",
          "text": [
            "격자 맵:\n",
            " [[ 0.  0.  0.  0.  0.  0.]\n",
            " [ 0.  0.  0.  0.  0.  0.]\n",
            " [ 0.  0.  0.  0. -1.  0.]\n",
            " [ 1.  0. -1. -1.  0.  0.]\n",
            " [ 0.  0.  0.  0.  0. -1.]\n",
            " [ 0.  0.  0.  0.  0.  0.]]\n"
          ]
        }
      ]
    }
  ]
}