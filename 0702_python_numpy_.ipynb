{
  "nbformat": 4,
  "nbformat_minor": 0,
  "metadata": {
    "colab": {
      "provenance": [],
      "authorship_tag": "ABX9TyOwniXScxnJEC6ErjtbJ+d+",
      "include_colab_link": true
    },
    "kernelspec": {
      "name": "python3",
      "display_name": "Python 3"
    },
    "language_info": {
      "name": "python"
    }
  },
  "cells": [
    {
      "cell_type": "markdown",
      "metadata": {
        "id": "view-in-github",
        "colab_type": "text"
      },
      "source": [
        "<a href=\"https://colab.research.google.com/github/don1504/don/blob/main/0702_python_numpy_.ipynb\" target=\"_parent\"><img src=\"https://colab.research.google.com/assets/colab-badge.svg\" alt=\"Open In Colab\"/></a>"
      ]
    },
    {
      "cell_type": "markdown",
      "source": [
        "배열 생성 및 기본 연산"
      ],
      "metadata": {
        "id": "ghjbSsDAAWgl"
      }
    },
    {
      "cell_type": "code",
      "execution_count": 1,
      "metadata": {
        "colab": {
          "base_uri": "https://localhost:8080/"
        },
        "id": "5Rls0Y5D__mj",
        "outputId": "21fe4a26-91eb-4604-b5d1-01b46e27c6e3"
      },
      "outputs": [
        {
          "output_type": "stream",
          "name": "stdout",
          "text": [
            "a + b = [5 7 9]\n",
            "a * b = [ 4 10 18]\n",
            "a의 평균 = 2.0\n"
          ]
        }
      ],
      "source": [
        "import numpy as np\n",
        "\n",
        "# 1D 배열 생성\n",
        "a = np.array([1, 2, 3])\n",
        "b = np.array([4, 5, 6])\n",
        "\n",
        "print(\"a + b =\", a + b)  # 요소별 덧셈\n",
        "print(\"a * b =\", a * b)  # 요소별 곱셈\n",
        "print(\"a의 평균 =\", np.mean(a))\n"
      ]
    },
    {
      "cell_type": "markdown",
      "source": [
        "2차원 배열 및 슬라이싱"
      ],
      "metadata": {
        "id": "7zpwSoo7AZox"
      }
    },
    {
      "cell_type": "code",
      "source": [
        "import numpy as np\n",
        "\n",
        "arr = np.array([[1, 2, 3], [4, 5, 6]])\n",
        "\n",
        "print(\"전체 배열:\\n\", arr)\n",
        "print(\"첫 번째 행:\", arr[0])\n",
        "print(\"두 번째 열:\", arr[:, 1])  # 모든 행의 두 번째 열만 출력\n"
      ],
      "metadata": {
        "colab": {
          "base_uri": "https://localhost:8080/"
        },
        "id": "BmKQveX6AaWv",
        "outputId": "5e57c76a-8c1a-4c32-d7ca-334ef7674c00"
      },
      "execution_count": 2,
      "outputs": [
        {
          "output_type": "stream",
          "name": "stdout",
          "text": [
            "전체 배열:\n",
            " [[1 2 3]\n",
            " [4 5 6]]\n",
            "첫 번째 행: [1 2 3]\n",
            "두 번째 열: [2 5]\n"
          ]
        }
      ]
    },
    {
      "cell_type": "markdown",
      "source": [
        "배열 생성 함수"
      ],
      "metadata": {
        "id": "v6ypTX5DAbKl"
      }
    },
    {
      "cell_type": "code",
      "source": [
        "import numpy as np\n",
        "\n",
        "a = np.arange(0, 10, 2)  # 0부터 10 전까지, 2 간격\n",
        "b = np.zeros((2, 3))     # 2x3 영행렬\n",
        "c = np.ones((3, 3))      # 3x3 1행렬\n",
        "\n",
        "print(\"arange:\", a)\n",
        "print(\"zeros:\\n\", b)\n",
        "print(\"ones:\\n\", c)\n"
      ],
      "metadata": {
        "colab": {
          "base_uri": "https://localhost:8080/"
        },
        "id": "taVTdUX5AdSs",
        "outputId": "a4abcdf9-c769-44f8-ff59-5553d61812d0"
      },
      "execution_count": 3,
      "outputs": [
        {
          "output_type": "stream",
          "name": "stdout",
          "text": [
            "arange: [0 2 4 6 8]\n",
            "zeros:\n",
            " [[0. 0. 0.]\n",
            " [0. 0. 0.]]\n",
            "ones:\n",
            " [[1. 1. 1.]\n",
            " [1. 1. 1.]\n",
            " [1. 1. 1.]]\n"
          ]
        }
      ]
    },
    {
      "cell_type": "markdown",
      "source": [
        "배열 형태 변경 및 전치"
      ],
      "metadata": {
        "id": "JndiISiOAeXQ"
      }
    },
    {
      "cell_type": "code",
      "source": [
        "import numpy as np\n",
        "\n",
        "arr = np.array([1, 2, 3, 4, 5, 6])\n",
        "reshaped = arr.reshape(2, 3)  # 2행 3열로 변환\n",
        "transposed = reshaped.T      # 전치 (행/열 바꾸기)\n",
        "\n",
        "print(\"Reshaped:\\n\", reshaped)\n",
        "print(\"Transposed:\\n\", transposed)\n"
      ],
      "metadata": {
        "colab": {
          "base_uri": "https://localhost:8080/"
        },
        "id": "z54BxJ3LAfQk",
        "outputId": "a0b16eb8-7296-45b2-b94a-7f47f4188b57"
      },
      "execution_count": 4,
      "outputs": [
        {
          "output_type": "stream",
          "name": "stdout",
          "text": [
            "Reshaped:\n",
            " [[1 2 3]\n",
            " [4 5 6]]\n",
            "Transposed:\n",
            " [[1 4]\n",
            " [2 5]\n",
            " [3 6]]\n"
          ]
        }
      ]
    },
    {
      "cell_type": "markdown",
      "source": [
        "조건 필터링"
      ],
      "metadata": {
        "id": "inVNFhYjAgI0"
      }
    },
    {
      "cell_type": "code",
      "source": [
        "import numpy as np\n",
        "\n",
        "data = np.array([5, 12, 7, 20, 3])\n",
        "filtered = data[data > 10]  # 10보다 큰 값만 추출\n",
        "\n",
        "print(\"원본:\", data)\n",
        "print(\"10보다 큰 값들:\", filtered)\n"
      ],
      "metadata": {
        "colab": {
          "base_uri": "https://localhost:8080/"
        },
        "id": "GPvde1GDAiPG",
        "outputId": "96a02a60-e14a-4453-da18-4f5abbf02bca"
      },
      "execution_count": 5,
      "outputs": [
        {
          "output_type": "stream",
          "name": "stdout",
          "text": [
            "원본: [ 5 12  7 20  3]\n",
            "10보다 큰 값들: [12 20]\n"
          ]
        }
      ]
    }
  ]
}