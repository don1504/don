{
  "nbformat": 4,
  "nbformat_minor": 0,
  "metadata": {
    "colab": {
      "provenance": [],
      "authorship_tag": "ABX9TyN8jYgkbED40EgX6xmCRaGW",
      "include_colab_link": true
    },
    "kernelspec": {
      "name": "python3",
      "display_name": "Python 3"
    },
    "language_info": {
      "name": "python"
    }
  },
  "cells": [
    {
      "cell_type": "markdown",
      "metadata": {
        "id": "view-in-github",
        "colab_type": "text"
      },
      "source": [
        "<a href=\"https://colab.research.google.com/github/don1504/don/blob/main/0627_python_tuple.ipynb\" target=\"_parent\"><img src=\"https://colab.research.google.com/assets/colab-badge.svg\" alt=\"Open In Colab\"/></a>"
      ]
    },
    {
      "cell_type": "markdown",
      "source": [
        "튜플 생성"
      ],
      "metadata": {
        "id": "kV1snbvnNiBE"
      }
    },
    {
      "cell_type": "code",
      "execution_count": null,
      "metadata": {
        "colab": {
          "base_uri": "https://localhost:8080/"
        },
        "id": "ac-iUEESNHps",
        "outputId": "3defad00-ce37-4ce5-acd9-fa58ab593311"
      },
      "outputs": [
        {
          "output_type": "stream",
          "name": "stdout",
          "text": [
            "('apple', 'banana', 'cherry')\n"
          ]
        }
      ],
      "source": [
        "thistuple = (\"apple\", \"banana\", \"cherry\")\n",
        "print(thistuple)"
      ]
    },
    {
      "cell_type": "markdown",
      "source": [
        "중복값 허용"
      ],
      "metadata": {
        "id": "rPsg3spcNpIS"
      }
    },
    {
      "cell_type": "code",
      "source": [
        "thistuple = (\"apple\", \"banana\", \"cherry\", \"apple\", \"cherry\")\n",
        "print(thistuple)"
      ],
      "metadata": {
        "colab": {
          "base_uri": "https://localhost:8080/"
        },
        "id": "lapLvOXJNrT5",
        "outputId": "23c08658-94df-4154-84e4-37b5731fd96e"
      },
      "execution_count": null,
      "outputs": [
        {
          "output_type": "stream",
          "name": "stdout",
          "text": [
            "('apple', 'banana', 'cherry', 'apple', 'cherry')\n"
          ]
        }
      ]
    },
    {
      "cell_type": "markdown",
      "source": [
        "인덱스 범위 지정"
      ],
      "metadata": {
        "id": "FPh1kjO6N6v6"
      }
    },
    {
      "cell_type": "code",
      "source": [
        "thistuple = (\"apple\", \"banana\", \"cherry\", \"orange\", \"kiwi\", \"melon\", \"mango\")\n",
        "print(thistuple[2:5])"
      ],
      "metadata": {
        "colab": {
          "base_uri": "https://localhost:8080/"
        },
        "id": "Rt33Z0ScN8B3",
        "outputId": "68d4615d-2c76-4faa-d82a-000eba644b13"
      },
      "execution_count": null,
      "outputs": [
        {
          "output_type": "stream",
          "name": "stdout",
          "text": [
            "('cherry', 'orange', 'kiwi')\n"
          ]
        }
      ]
    },
    {
      "cell_type": "markdown",
      "source": [
        "한 부분을 지정하여 제외할수있다\n"
      ],
      "metadata": {
        "id": "sxlZ1s1kN_gW"
      }
    },
    {
      "cell_type": "code",
      "source": [
        "thistuple = (\"apple\", \"banana\", \"cherry\", \"orange\", \"kiwi\", \"melon\", \"mango\")\n",
        "print(thistuple[:4])"
      ],
      "metadata": {
        "colab": {
          "base_uri": "https://localhost:8080/"
        },
        "id": "MXaG7DSHN_wN",
        "outputId": "ec927066-cca9-498e-cc29-7da64342cb55"
      },
      "execution_count": null,
      "outputs": [
        {
          "output_type": "stream",
          "name": "stdout",
          "text": [
            "('apple', 'banana', 'cherry', 'orange')\n"
          ]
        }
      ]
    },
    {
      "cell_type": "markdown",
      "source": [
        "기본 좌표 언패킹"
      ],
      "metadata": {
        "id": "vRtxBzlHOQMM"
      }
    },
    {
      "cell_type": "code",
      "source": [
        "vehicle_position = (127.5, 37.5)  # 경도, 위도\n",
        "\n",
        "longitude, latitude = vehicle_position\n",
        "print(f\"차량 위치: 경도 {longitude}, 위도 {latitude}\")\n"
      ],
      "metadata": {
        "colab": {
          "base_uri": "https://localhost:8080/"
        },
        "id": "HSbEMf-SOQpo",
        "outputId": "c548eac9-804a-42dc-b267-e87d4dea2a49"
      },
      "execution_count": null,
      "outputs": [
        {
          "output_type": "stream",
          "name": "stdout",
          "text": [
            "차량 위치: 경도 127.5, 위도 37.5\n"
          ]
        }
      ]
    },
    {
      "cell_type": "markdown",
      "source": [
        "센서 데이터 언패킹  "
      ],
      "metadata": {
        "id": "b5fiWa40OSf4"
      }
    },
    {
      "cell_type": "code",
      "source": [
        "lidar_data = (8.5, 45)  # 거리(미터), 각도(도)\n",
        "\n",
        "distance, angle = lidar_data\n",
        "print(f\"라이다 감지: {distance}m, {angle}도\")\n",
        "\n"
      ],
      "metadata": {
        "colab": {
          "base_uri": "https://localhost:8080/"
        },
        "id": "QkoGSFFeOU1w",
        "outputId": "75aa3c0e-b945-490e-95a7-94c8edb75e52"
      },
      "execution_count": null,
      "outputs": [
        {
          "output_type": "stream",
          "name": "stdout",
          "text": [
            "라이다 감지: 8.5m, 45도\n"
          ]
        }
      ]
    },
    {
      "cell_type": "markdown",
      "source": [
        "속도와 방향 언패킹\n"
      ],
      "metadata": {
        "id": "5qruqsMHOWS1"
      }
    },
    {
      "cell_type": "code",
      "source": [
        "motion_data = (60, 270)  # 속도(km/h), 방향(도)\n",
        "\n",
        "speed, direction = motion_data\n",
        "print(f\"차량 운동: {speed}km/h, {direction}도 방향\")\n"
      ],
      "metadata": {
        "colab": {
          "base_uri": "https://localhost:8080/"
        },
        "id": "NL2VEuAoOXPN",
        "outputId": "957eba8a-602c-4931-bad3-440fbe16bbc7"
      },
      "execution_count": null,
      "outputs": [
        {
          "output_type": "stream",
          "name": "stdout",
          "text": [
            "차량 운동: 60km/h, 270도 방향\n"
          ]
        }
      ]
    },
    {
      "cell_type": "markdown",
      "source": [
        "교차로 신호등 정보 언패킹"
      ],
      "metadata": {
        "id": "0Q6GLTtWOYuU"
      }
    },
    {
      "cell_type": "code",
      "source": [
        "traffic_signal = ('빨강', 15)  # 색상, 남은시간(초)\n",
        "\n",
        "color, time_left = traffic_signal\n",
        "print(f\"신호등: {color}, {time_left}초 남음\")\n"
      ],
      "metadata": {
        "colab": {
          "base_uri": "https://localhost:8080/"
        },
        "id": "LERHxaBVOZv2",
        "outputId": "456cad98-180c-45b0-d6b6-d7a227dc40ee"
      },
      "execution_count": null,
      "outputs": [
        {
          "output_type": "stream",
          "name": "stdout",
          "text": [
            "신호등: 빨강, 15초 남음\n"
          ]
        }
      ]
    },
    {
      "cell_type": "markdown",
      "source": [
        "주차 공간 정보 언패킹"
      ],
      "metadata": {
        "id": "C3DrMwJiObCF"
      }
    },
    {
      "cell_type": "code",
      "source": [
        "parking_spot = (4.8, 2.3, True)  # 길이(m), 폭(m), 사용가능여부\n",
        "\n",
        "length, width, available = parking_spot\n",
        "print(f\"주차공간: {length}m × {width}m, 사용가능: {available}\")\n"
      ],
      "metadata": {
        "colab": {
          "base_uri": "https://localhost:8080/"
        },
        "id": "kAio79F1OcPE",
        "outputId": "23e3b63c-79f1-497b-c570-a8ef8c8d78b7"
      },
      "execution_count": null,
      "outputs": [
        {
          "output_type": "stream",
          "name": "stdout",
          "text": [
            "주차공간: 4.8m × 2.3m, 사용가능: True\n"
          ]
        }
      ]
    },
    {
      "cell_type": "markdown",
      "source": [
        "배터리 상태 언패킹"
      ],
      "metadata": {
        "id": "5c3WwRzMOdQJ"
      }
    },
    {
      "cell_type": "code",
      "source": [
        "battery_info = (85, 320, 'normal')  # 잔량(%), 주행가능거리(km), 상태\n",
        "\n",
        "charge_level, remaining_range, battery_status = battery_info\n",
        "print(f\"배터리: {charge_level}%, {remaining_range}km 주행가능, 상태: {battery_status}\")\n",
        "\n",
        "print(\"\\n\" + \"=\"*50)\n"
      ],
      "metadata": {
        "colab": {
          "base_uri": "https://localhost:8080/"
        },
        "id": "v5MEIqNxOeGm",
        "outputId": "e8aabbb1-dae0-448d-cfb3-c6ae2c18e4d8"
      },
      "execution_count": null,
      "outputs": [
        {
          "output_type": "stream",
          "name": "stdout",
          "text": [
            "배터리: 85%, 320km 주행가능, 상태: normal\n",
            "\n",
            "==================================================\n"
          ]
        }
      ]
    },
    {
      "cell_type": "markdown",
      "source": [
        "###튜플 + 리스트 조합"
      ],
      "metadata": {
        "id": "Llr5PvgpT9Pw"
      }
    },
    {
      "cell_type": "markdown",
      "source": [
        "여러 센서 데이터를 리스트로 관리"
      ],
      "metadata": {
        "id": "gui5GFK1T-_k"
      }
    },
    {
      "cell_type": "code",
      "source": [
        "sensor_readings = [\n",
        "    (8.5, 45, 'lidar'),      # 거리, 각도, 센서타입\n",
        "    (12.3, 0, 'camera'),     # 거리, 각도, 센서타입\n",
        "    (15.7, -30, 'radar'),    # 거리, 각도, 센서타입\n",
        "    (2.1, 90, 'ultrasonic')  # 거리, 각도, 센서타입\n",
        "]\n",
        "\n",
        "print(\"센서별 감지 정보:\")\n",
        "for sensor_data in sensor_readings:\n",
        "    dist, ang, sensor_type = sensor_data  # tuple unpacking\n",
        "    print(f\"{sensor_type}: {dist}m, {ang}도\")\n"
      ],
      "metadata": {
        "colab": {
          "base_uri": "https://localhost:8080/"
        },
        "id": "YnOKSiniUEZW",
        "outputId": "76b562e6-d0f2-4419-d69a-7854af7244c7"
      },
      "execution_count": null,
      "outputs": [
        {
          "output_type": "stream",
          "name": "stdout",
          "text": [
            "센서별 감지 정보:\n",
            "lidar: 8.5m, 45도\n",
            "camera: 12.3m, 0도\n",
            "radar: 15.7m, -30도\n",
            "ultrasonic: 2.1m, 90도\n"
          ]
        }
      ]
    },
    {
      "cell_type": "markdown",
      "source": [
        "위험 센서 찾기 (5m 이내)"
      ],
      "metadata": {
        "id": "RFMeY8W5UGTh"
      }
    },
    {
      "cell_type": "code",
      "source": [
        "print(\"\\n위험 감지 센서:\")\n",
        "for sensor_data in sensor_readings:\n",
        "    dist, ang, sensor_type = sensor_data\n",
        "    if dist < 5.0:\n",
        "        print(f\"⚠️ {sensor_type}: {dist}m (위험)\")\n"
      ],
      "metadata": {
        "colab": {
          "base_uri": "https://localhost:8080/"
        },
        "id": "DGYL-axTUH_E",
        "outputId": "5ce06dd3-2266-4acb-eeaf-f1c505c46101"
      },
      "execution_count": null,
      "outputs": [
        {
          "output_type": "stream",
          "name": "stdout",
          "text": [
            "\n",
            "위험 감지 센서:\n",
            "⚠️ ultrasonic: 2.1m (위험)\n"
          ]
        }
      ]
    },
    {
      "cell_type": "markdown",
      "source": [
        "경로 포인트들을 리스트로 관리"
      ],
      "metadata": {
        "id": "bFYMXjAbUMWM"
      }
    },
    {
      "cell_type": "code",
      "source": [
        "waypoints = [\n",
        "    (0, 0, '출발지'),\n",
        "    (5, 3, '경유지1'),\n",
        "    (10, 8, '경유지2'),\n",
        "    (15, 12, '목적지')\n",
        "]\n",
        "\n",
        "print(\"\\n경로 계획:\")\n",
        "for point in waypoints:\n",
        "    x, y, name = point\n",
        "    print(f\"{name}: ({x}, {y})\")\n"
      ],
      "metadata": {
        "colab": {
          "base_uri": "https://localhost:8080/"
        },
        "id": "75djSmTKUNU-",
        "outputId": "1d21d346-8bff-4335-a4b7-0a2fe6e522e9"
      },
      "execution_count": null,
      "outputs": [
        {
          "output_type": "stream",
          "name": "stdout",
          "text": [
            "\n",
            "경로 계획:\n",
            "출발지: (0, 0)\n",
            "경유지1: (5, 3)\n",
            "경유지2: (10, 8)\n",
            "목적지: (15, 12)\n"
          ]
        }
      ]
    },
    {
      "cell_type": "markdown",
      "source": [
        "교차로 정보들"
      ],
      "metadata": {
        "id": "14j686CDUOiZ"
      }
    },
    {
      "cell_type": "code",
      "source": [
        "intersections = [\n",
        "    ('서울역', 'green', 25),\n",
        "    ('시청', 'red', 40),\n",
        "    ('종로3가', 'yellow', 5),\n",
        "    ('을지로', 'green', 15)\n",
        "]\n",
        "\n",
        "print(\"\\n교차로 신호등 현황:\")\n",
        "for intersection in intersections:\n",
        "    name, signal_color, remaining_time = intersection\n",
        "    print(f\"{name}: {signal_color} ({remaining_time}초)\")\n",
        "\n",
        "print(\"\\n\" + \"=\"*50)\n"
      ],
      "metadata": {
        "colab": {
          "base_uri": "https://localhost:8080/"
        },
        "id": "96BjDyg4UPb_",
        "outputId": "b6dc9905-ed1a-4bca-87dd-b20af17bb4e3"
      },
      "execution_count": null,
      "outputs": [
        {
          "output_type": "stream",
          "name": "stdout",
          "text": [
            "\n",
            "교차로 신호등 현황:\n",
            "서울역: green (25초)\n",
            "시청: red (40초)\n",
            "종로3가: yellow (5초)\n",
            "을지로: green (15초)\n",
            "\n",
            "==================================================\n"
          ]
        }
      ]
    },
    {
      "cell_type": "markdown",
      "source": [
        "###튜플+딕셔너리  조합\n"
      ],
      "metadata": {
        "id": "DYW9wB_vURr8"
      }
    },
    {
      "cell_type": "markdown",
      "source": [
        "차량별 위치 정보를 딕셔너리로 관리"
      ],
      "metadata": {
        "id": "rNoxxnLVUWB5"
      }
    },
    {
      "cell_type": "code",
      "source": [
        "vehicle_locations = {\n",
        "    'car_001': (127.1, 37.5, 60),\n",
        "    'car_002': (127.2, 37.6, 45),\n",
        "    'car_003': (127.3, 37.4, 80),\n",
        "    'truck_001': (127.0, 37.3, 70)\n",
        "}\n",
        "\n",
        "print(\"차량별 현재 위치:\")\n",
        "for vehicle_id, location_data in vehicle_locations.items():\n",
        "    lon, lat, spd = location_data  # tuple unpacking\n",
        "    print(f\"{vehicle_id}: ({lon}, {lat}), {spd}km/h\")\n",
        "\n",
        "\n",
        "charging_stations = {\n",
        "    '강남충전소': (127.027, 37.498, 5, 2),\n",
        "    '서초충전소': (127.032, 37.483, 8, 6),\n",
        "    '송파충전소': (127.105, 37.514, 6, 1)\n",
        "}\n",
        "\n",
        "print(\"\\n충전소 현황:\")\n",
        "for station_name, station_info in charging_stations.items():\n",
        "    lon, lat, total_slots, used_slots = station_info\n",
        "    available = total_slots - used_slots\n",
        "    print(f\"{station_name}: 위치({lon}, {lat}), 사용가능 {available}/{total_slots}슬롯\")"
      ],
      "metadata": {
        "colab": {
          "base_uri": "https://localhost:8080/"
        },
        "id": "tlikzg6eUXPB",
        "outputId": "a9d2e238-c296-4f58-fa75-be29b57788d1"
      },
      "execution_count": null,
      "outputs": [
        {
          "output_type": "stream",
          "name": "stdout",
          "text": [
            "차량별 현재 위치:\n",
            "car_001: (127.1, 37.5), 60km/h\n",
            "car_002: (127.2, 37.6), 45km/h\n",
            "car_003: (127.3, 37.4), 80km/h\n",
            "truck_001: (127.0, 37.3), 70km/h\n",
            "\n",
            "충전소 현황:\n",
            "강남충전소: 위치(127.027, 37.498), 사용가능 3/5슬롯\n",
            "서초충전소: 위치(127.032, 37.483), 사용가능 2/8슬롯\n",
            "송파충전소: 위치(127.105, 37.514), 사용가능 5/6슬롯\n"
          ]
        }
      ]
    },
    {
      "cell_type": "markdown",
      "source": [
        "주차장 구역별 정보"
      ],
      "metadata": {
        "id": "nCoLJI3vUknV"
      }
    },
    {
      "cell_type": "code",
      "source": [
        "parking_areas = {\n",
        "    'A구역': (50, 45, 'compact'),\n",
        "    'B구역': (30, 30, 'standard'),\n",
        "    'C구역': (20, 15, 'large'),\n",
        "    'D구역': (15, 8, 'handicapped')\n",
        "}\n",
        "\n",
        "print(\"\\n주차장 현황:\")\n",
        "for area_name, area_info in parking_areas.items():\n",
        "    total, occupied, car_type = area_info\n",
        "    available = total - occupied\n",
        "    utilization = round((occupied / total) * 100, 1)\n",
        "    print(f\"{area_name} ({car_type}): {available}/{total}자리 사용가능 (사용률 {utilization}%)\")\n",
        "\n",
        "print(\"\\n\" + \"=\"*50)\n"
      ],
      "metadata": {
        "colab": {
          "base_uri": "https://localhost:8080/"
        },
        "id": "bKEXjWKdUlAU",
        "outputId": "ede6e188-4b4c-413d-c791-709515a74cb4"
      },
      "execution_count": null,
      "outputs": [
        {
          "output_type": "stream",
          "name": "stdout",
          "text": [
            "\n",
            "주차장 현황:\n",
            "A구역 (compact): 5/50자리 사용가능 (사용률 90.0%)\n",
            "B구역 (standard): 0/30자리 사용가능 (사용률 100.0%)\n",
            "C구역 (large): 5/20자리 사용가능 (사용률 75.0%)\n",
            "D구역 (handicapped): 7/15자리 사용가능 (사용률 53.3%)\n",
            "\n",
            "==================================================\n"
          ]
        }
      ]
    },
    {
      "cell_type": "markdown",
      "source": [
        "실시간 교통 데이터 (시간, 위치, 속도, 차량타입, 차선)"
      ],
      "metadata": {
        "id": "InC5rBeIUnYL"
      }
    },
    {
      "cell_type": "code",
      "source": [
        "traffic_data = [\n",
        "    ('09:15', (127.1, 37.5), 45, 'sedan', 1),\n",
        "    ('09:16', (127.2, 37.6), 60, 'truck', 2),\n",
        "    ('09:17', (127.3, 37.4), 30, 'bus', 1),\n",
        "    ('09:18', (127.0, 37.3), 80, 'sedan', 3)\n",
        "]\n",
        "\n",
        "print(\"실시간 교통 모니터링:\")\n",
        "for data in traffic_data:\n",
        "    time, position, speed, vehicle_type, lane = data\n",
        "    lon, lat = position  # 중첩 tuple unpacking\n",
        "    print(f\"{time} | {vehicle_type} | ({lon}, {lat}) | {speed}km/h | {lane}차선\")\n",
        "\n",
        "# 사고 신고 데이터 (시간, 위치, 심각도, 처리상태)\n",
        "accident_reports = [\n",
        "    ('10:30', (127.15, 37.55), 'minor', False),\n",
        "    ('10:45', (127.25, 37.65), 'major', True),\n",
        "    ('11:00', (127.35, 37.45), 'minor', False)\n",
        "]\n",
        "\n",
        "print(\"\\n사고 신고 현황:\")\n",
        "for report in accident_reports:\n",
        "    time, location, severity, handled = report\n",
        "    lon, lat = location\n",
        "    status = \"처리완료\" if handled else \"처리중\"\n",
        "    print(f\"{time} | ({lon}, {lat}) | {severity} | {status}\")\n",
        "\n"
      ],
      "metadata": {
        "colab": {
          "base_uri": "https://localhost:8080/"
        },
        "id": "lDiOT4ebU0vH",
        "outputId": "0ddaee55-854f-482f-9c15-51d5b9990379"
      },
      "execution_count": null,
      "outputs": [
        {
          "output_type": "stream",
          "name": "stdout",
          "text": [
            "실시간 교통 모니터링:\n",
            "09:15 | sedan | (127.1, 37.5) | 45km/h | 1차선\n",
            "09:16 | truck | (127.2, 37.6) | 60km/h | 2차선\n",
            "09:17 | bus | (127.3, 37.4) | 30km/h | 1차선\n",
            "09:18 | sedan | (127.0, 37.3) | 80km/h | 3차선\n",
            "\n",
            "사고 신고 현황:\n",
            "10:30 | (127.15, 37.55) | minor | 처리중\n",
            "10:45 | (127.25, 37.65) | major | 처리완료\n",
            "11:00 | (127.35, 37.45) | minor | 처리중\n"
          ]
        }
      ]
    },
    {
      "cell_type": "markdown",
      "source": [
        "미처리 사고만 필터링"
      ],
      "metadata": {
        "id": "r7QFzo_OU1ha"
      }
    },
    {
      "cell_type": "code",
      "source": [
        "print(\"\\n미처리 사고:\")\n",
        "for report in accident_reports:\n",
        "    time, location, severity, handled = report\n",
        "    if not handled:\n",
        "        lon, lat = location\n",
        "        print(f\"⚠️ {time} | ({lon}, {lat}) | {severity} - 즉시 처리 필요\")\n"
      ],
      "metadata": {
        "colab": {
          "base_uri": "https://localhost:8080/"
        },
        "id": "MPsEmGKlU6WS",
        "outputId": "2077def0-7834-4e01-e506-d8935acafa19"
      },
      "execution_count": null,
      "outputs": [
        {
          "output_type": "stream",
          "name": "stdout",
          "text": [
            "\n",
            "미처리 사고:\n",
            "⚠️ 10:30 | (127.15, 37.55) | minor - 즉시 처리 필요\n",
            "⚠️ 11:00 | (127.35, 37.45) | minor - 즉시 처리 필요\n"
          ]
        }
      ]
    },
    {
      "cell_type": "markdown",
      "source": [
        "날씨별 권장 주행 조건 (날씨, 최대속도, 안전거리배수, 라이트사용)\n",
        "\n"
      ],
      "metadata": {
        "id": "sPta3zk-U9zd"
      }
    },
    {
      "cell_type": "code",
      "source": [
        "weather_conditions = [\n",
        "    ('맑음', 100, 1.0, False),\n",
        "    ('비', 80, 1.5, True),\n",
        "    ('눈', 60, 2.0, True),\n",
        "    ('안개', 50, 2.5, True)\n",
        "]\n",
        "\n",
        "current_weather = '비'  # 현재 날씨 설정\n",
        "\n",
        "print(f\"\\n현재 날씨: {current_weather}\")\n",
        "print(\"권장 주행 조건:\")\n",
        "for condition in weather_conditions:\n",
        "    weather, max_speed, distance_factor, lights_on = condition\n",
        "    if weather == current_weather:\n",
        "        print(f\"최대속도: {max_speed}km/h\")\n",
        "        print(f\"안전거리: 평소의 {distance_factor}배\")\n",
        "        print(f\"라이트 사용: {'필수' if lights_on else '선택'}\")\n",
        "        break\n"
      ],
      "metadata": {
        "colab": {
          "base_uri": "https://localhost:8080/"
        },
        "id": "V_G1CY1dVCk_",
        "outputId": "ed347947-24f0-411c-fd44-a9270ac80687"
      },
      "execution_count": null,
      "outputs": [
        {
          "output_type": "stream",
          "name": "stdout",
          "text": [
            "\n",
            "현재 날씨: 비\n",
            "권장 주행 조건:\n",
            "최대속도: 80km/h\n",
            "안전거리: 평소의 1.5배\n",
            "라이트 사용: 필수\n"
          ]
        }
      ]
    },
    {
      "cell_type": "markdown",
      "source": [
        "차량 상태 진단 결과 (차량ID, 엔진상태점수, 브레이크상태점수, 종합판정)\n"
      ],
      "metadata": {
        "id": "QPAms_AvVSpr"
      }
    },
    {
      "cell_type": "code",
      "source": [
        "vehicle_diagnostics = {\n",
        "    'EV001': (95, 88, 'excellent'),\n",
        "    'EV002': (82, 75, 'good'),\n",
        "    'EV003': (65, 45, 'caution'),\n",
        "    'EV004': (45, 30, 'maintenance')\n",
        "}\n",
        "\n",
        "print(\"\\n차량 상태 진단:\")\n",
        "for vehicle_id, diagnosis in vehicle_diagnostics.items():\n",
        "    engine_score, brake_score, overall_status = diagnosis\n",
        "    avg_score = (engine_score + brake_score) / 2\n",
        "    print(f\"{vehicle_id}: 엔진 {engine_score}점, 브레이크 {brake_score}점, 평균 {avg_score:.1f}점 ({overall_status})\")\n"
      ],
      "metadata": {
        "id": "zVG-ZNp_VTCP",
        "outputId": "a2ddd9a4-997e-4dee-b4b8-ae72fc12cca0",
        "colab": {
          "base_uri": "https://localhost:8080/"
        }
      },
      "execution_count": null,
      "outputs": [
        {
          "output_type": "stream",
          "name": "stdout",
          "text": [
            "\n",
            "차량 상태 진단:\n",
            "EV001: 엔진 95점, 브레이크 88점, 평균 91.5점 (excellent)\n",
            "EV002: 엔진 82점, 브레이크 75점, 평균 78.5점 (good)\n",
            "EV003: 엔진 65점, 브레이크 45점, 평균 55.0점 (caution)\n",
            "EV004: 엔진 45점, 브레이크 30점, 평균 37.5점 (maintenance)\n"
          ]
        }
      ]
    },
    {
      "cell_type": "markdown",
      "source": [
        "정비 필요 차량 필터링"
      ],
      "metadata": {
        "id": "WxQ0qMuaVUpQ"
      }
    },
    {
      "cell_type": "code",
      "source": [
        "print(\"\\n정비 필요 차량:\")\n",
        "for vehicle_id, diagnosis in vehicle_diagnostics.items():\n",
        "    engine_score, brake_score, overall_status = diagnosis\n",
        "    if overall_status in ['caution', 'maintenance']:\n",
        "        print(f\"🔧 {vehicle_id}: {overall_status} - 점검 필요\")\n",
        "\n"
      ],
      "metadata": {
        "id": "tpvYyEtqVVZe",
        "outputId": "a264a490-7800-43e7-c655-5f5aae427113",
        "colab": {
          "base_uri": "https://localhost:8080/"
        }
      },
      "execution_count": null,
      "outputs": [
        {
          "output_type": "stream",
          "name": "stdout",
          "text": [
            "\n",
            "정비 필요 차량:\n",
            "🔧 EV003: caution - 점검 필요\n",
            "🔧 EV004: maintenance - 점검 필요\n"
          ]
        }
      ]
    }
  ]
}